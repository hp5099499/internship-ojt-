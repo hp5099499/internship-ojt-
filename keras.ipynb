{
 "cells": [
  {
   "cell_type": "code",
   "execution_count": 55,
   "id": "d0e6d110",
   "metadata": {},
   "outputs": [],
   "source": [
    "# import thre required libraries\n",
    "import pandas as pd\n",
    "import numpy as np\n",
    "import matplotlib.pyplot as plt\n",
    "import sklearn\n",
    "\n",
    "# import the necessary libraries\n",
    "from sklearn.model_selection import train_test_split\n",
    "from sklearn.metrics import mean_squared_error\n",
    "from math import sqrt\n",
    " \n",
    "# keras specific   \n",
    "import keras \n",
    "from keras.models import Sequential\n",
    "from keras.layers import Dense\n",
    "\n",
    "df=pd.read_csv(\"regression.csv\")"
   ]
  },
  {
   "cell_type": "code",
   "execution_count": 42,
   "id": "4a39f8f6",
   "metadata": {},
   "outputs": [
    {
     "name": "stdout",
     "output_type": "stream",
     "text": [
      "(683, 5)\n"
     ]
    },
    {
     "data": {
      "text/html": [
       "<div>\n",
       "<style scoped>\n",
       "    .dataframe tbody tr th:only-of-type {\n",
       "        vertical-align: middle;\n",
       "    }\n",
       "\n",
       "    .dataframe tbody tr th {\n",
       "        vertical-align: top;\n",
       "    }\n",
       "\n",
       "    .dataframe thead th {\n",
       "        text-align: right;\n",
       "    }\n",
       "</style>\n",
       "<table border=\"1\" class=\"dataframe\">\n",
       "  <thead>\n",
       "    <tr style=\"text-align: right;\">\n",
       "      <th></th>\n",
       "      <th>PSAVERT</th>\n",
       "      <th>PCE</th>\n",
       "      <th>UEMPMED</th>\n",
       "      <th>POP</th>\n",
       "      <th>UNEMPLOY</th>\n",
       "    </tr>\n",
       "  </thead>\n",
       "  <tbody>\n",
       "    <tr>\n",
       "      <th>0</th>\n",
       "      <td>12.6</td>\n",
       "      <td>506.7</td>\n",
       "      <td>4.5</td>\n",
       "      <td>198712.0</td>\n",
       "      <td>2944</td>\n",
       "    </tr>\n",
       "    <tr>\n",
       "      <th>1</th>\n",
       "      <td>12.6</td>\n",
       "      <td>509.8</td>\n",
       "      <td>4.7</td>\n",
       "      <td>198911.0</td>\n",
       "      <td>2945</td>\n",
       "    </tr>\n",
       "    <tr>\n",
       "      <th>2</th>\n",
       "      <td>11.9</td>\n",
       "      <td>515.6</td>\n",
       "      <td>4.6</td>\n",
       "      <td>199113.0</td>\n",
       "      <td>2958</td>\n",
       "    </tr>\n",
       "    <tr>\n",
       "      <th>3</th>\n",
       "      <td>12.9</td>\n",
       "      <td>512.2</td>\n",
       "      <td>4.9</td>\n",
       "      <td>199311.0</td>\n",
       "      <td>3143</td>\n",
       "    </tr>\n",
       "    <tr>\n",
       "      <th>4</th>\n",
       "      <td>12.8</td>\n",
       "      <td>517.4</td>\n",
       "      <td>4.7</td>\n",
       "      <td>199498.0</td>\n",
       "      <td>3066</td>\n",
       "    </tr>\n",
       "  </tbody>\n",
       "</table>\n",
       "</div>"
      ],
      "text/plain": [
       "   PSAVERT    PCE  UEMPMED       POP  UNEMPLOY\n",
       "0     12.6  506.7      4.5  198712.0      2944\n",
       "1     12.6  509.8      4.7  198911.0      2945\n",
       "2     11.9  515.6      4.6  199113.0      2958\n",
       "3     12.9  512.2      4.9  199311.0      3143\n",
       "4     12.8  517.4      4.7  199498.0      3066"
      ]
     },
     "execution_count": 42,
     "metadata": {},
     "output_type": "execute_result"
    }
   ],
   "source": [
    "# Reading the Data and Performing Basic Data Checks\n",
    "print(df.shape)\n",
    "\n",
    "df.head()\n"
   ]
  },
  {
   "cell_type": "code",
   "execution_count": 43,
   "id": "5d9974b3",
   "metadata": {},
   "outputs": [
    {
     "data": {
      "text/html": [
       "<div>\n",
       "<style scoped>\n",
       "    .dataframe tbody tr th:only-of-type {\n",
       "        vertical-align: middle;\n",
       "    }\n",
       "\n",
       "    .dataframe tbody tr th {\n",
       "        vertical-align: top;\n",
       "    }\n",
       "\n",
       "    .dataframe thead th {\n",
       "        text-align: right;\n",
       "    }\n",
       "</style>\n",
       "<table border=\"1\" class=\"dataframe\">\n",
       "  <thead>\n",
       "    <tr style=\"text-align: right;\">\n",
       "      <th></th>\n",
       "      <th>PSAVERT</th>\n",
       "      <th>PCE</th>\n",
       "      <th>UEMPMED</th>\n",
       "      <th>POP</th>\n",
       "      <th>UNEMPLOY</th>\n",
       "    </tr>\n",
       "  </thead>\n",
       "  <tbody>\n",
       "    <tr>\n",
       "      <th>count</th>\n",
       "      <td>683.000000</td>\n",
       "      <td>683.000000</td>\n",
       "      <td>683.000000</td>\n",
       "      <td>683.000000</td>\n",
       "      <td>683.000000</td>\n",
       "    </tr>\n",
       "    <tr>\n",
       "      <th>mean</th>\n",
       "      <td>8.069400</td>\n",
       "      <td>6467.020205</td>\n",
       "      <td>8.939385</td>\n",
       "      <td>268650.110681</td>\n",
       "      <td>7739.795022</td>\n",
       "    </tr>\n",
       "    <tr>\n",
       "      <th>std</th>\n",
       "      <td>3.526966</td>\n",
       "      <td>5059.680154</td>\n",
       "      <td>4.029039</td>\n",
       "      <td>42782.857172</td>\n",
       "      <td>2668.545462</td>\n",
       "    </tr>\n",
       "    <tr>\n",
       "      <th>min</th>\n",
       "      <td>1.400000</td>\n",
       "      <td>506.700000</td>\n",
       "      <td>2.100000</td>\n",
       "      <td>198712.000000</td>\n",
       "      <td>2685.000000</td>\n",
       "    </tr>\n",
       "    <tr>\n",
       "      <th>25%</th>\n",
       "      <td>5.500000</td>\n",
       "      <td>1966.050000</td>\n",
       "      <td>6.250000</td>\n",
       "      <td>230526.500000</td>\n",
       "      <td>6199.000000</td>\n",
       "    </tr>\n",
       "    <tr>\n",
       "      <th>50%</th>\n",
       "      <td>7.400000</td>\n",
       "      <td>5085.700000</td>\n",
       "      <td>8.200000</td>\n",
       "      <td>267943.000000</td>\n",
       "      <td>7398.000000</td>\n",
       "    </tr>\n",
       "    <tr>\n",
       "      <th>75%</th>\n",
       "      <td>10.900000</td>\n",
       "      <td>10183.700000</td>\n",
       "      <td>9.600000</td>\n",
       "      <td>309109.105500</td>\n",
       "      <td>8584.500000</td>\n",
       "    </tr>\n",
       "    <tr>\n",
       "      <th>max</th>\n",
       "      <td>32.000000</td>\n",
       "      <td>19337.800000</td>\n",
       "      <td>25.200000</td>\n",
       "      <td>336616.141000</td>\n",
       "      <td>23090.000000</td>\n",
       "    </tr>\n",
       "  </tbody>\n",
       "</table>\n",
       "</div>"
      ],
      "text/plain": [
       "          PSAVERT           PCE     UEMPMED            POP      UNEMPLOY\n",
       "count  683.000000    683.000000  683.000000     683.000000    683.000000\n",
       "mean     8.069400   6467.020205    8.939385  268650.110681   7739.795022\n",
       "std      3.526966   5059.680154    4.029039   42782.857172   2668.545462\n",
       "min      1.400000    506.700000    2.100000  198712.000000   2685.000000\n",
       "25%      5.500000   1966.050000    6.250000  230526.500000   6199.000000\n",
       "50%      7.400000   5085.700000    8.200000  267943.000000   7398.000000\n",
       "75%     10.900000  10183.700000    9.600000  309109.105500   8584.500000\n",
       "max     32.000000  19337.800000   25.200000  336616.141000  23090.000000"
      ]
     },
     "execution_count": 43,
     "metadata": {},
     "output_type": "execute_result"
    }
   ],
   "source": [
    "df.describe()"
   ]
  },
  {
   "cell_type": "code",
   "execution_count": 48,
   "id": "9c06c974",
   "metadata": {},
   "outputs": [
    {
     "data": {
      "text/html": [
       "<div>\n",
       "<style scoped>\n",
       "    .dataframe tbody tr th:only-of-type {\n",
       "        vertical-align: middle;\n",
       "    }\n",
       "\n",
       "    .dataframe tbody tr th {\n",
       "        vertical-align: top;\n",
       "    }\n",
       "\n",
       "    .dataframe thead th {\n",
       "        text-align: right;\n",
       "    }\n",
       "</style>\n",
       "<table border=\"1\" class=\"dataframe\">\n",
       "  <thead>\n",
       "    <tr style=\"text-align: right;\">\n",
       "      <th></th>\n",
       "      <th>PSAVERT</th>\n",
       "      <th>PCE</th>\n",
       "      <th>UEMPMED</th>\n",
       "      <th>POP</th>\n",
       "      <th>UNEMPLOY</th>\n",
       "    </tr>\n",
       "  </thead>\n",
       "  <tbody>\n",
       "    <tr>\n",
       "      <th>count</th>\n",
       "      <td>683.000000</td>\n",
       "      <td>683.000000</td>\n",
       "      <td>683.000000</td>\n",
       "      <td>683.000000</td>\n",
       "      <td>683.000000</td>\n",
       "    </tr>\n",
       "    <tr>\n",
       "      <th>mean</th>\n",
       "      <td>0.252169</td>\n",
       "      <td>0.334424</td>\n",
       "      <td>0.354738</td>\n",
       "      <td>0.798090</td>\n",
       "      <td>0.335201</td>\n",
       "    </tr>\n",
       "    <tr>\n",
       "      <th>std</th>\n",
       "      <td>0.110218</td>\n",
       "      <td>0.261647</td>\n",
       "      <td>0.159882</td>\n",
       "      <td>0.127097</td>\n",
       "      <td>0.115571</td>\n",
       "    </tr>\n",
       "    <tr>\n",
       "      <th>min</th>\n",
       "      <td>0.043750</td>\n",
       "      <td>0.026203</td>\n",
       "      <td>0.083333</td>\n",
       "      <td>0.590322</td>\n",
       "      <td>0.116284</td>\n",
       "    </tr>\n",
       "    <tr>\n",
       "      <th>25%</th>\n",
       "      <td>0.171875</td>\n",
       "      <td>0.101669</td>\n",
       "      <td>0.248016</td>\n",
       "      <td>0.684835</td>\n",
       "      <td>0.268471</td>\n",
       "    </tr>\n",
       "    <tr>\n",
       "      <th>50%</th>\n",
       "      <td>0.231250</td>\n",
       "      <td>0.262993</td>\n",
       "      <td>0.325397</td>\n",
       "      <td>0.795990</td>\n",
       "      <td>0.320398</td>\n",
       "    </tr>\n",
       "    <tr>\n",
       "      <th>75%</th>\n",
       "      <td>0.340625</td>\n",
       "      <td>0.526621</td>\n",
       "      <td>0.380952</td>\n",
       "      <td>0.918284</td>\n",
       "      <td>0.371784</td>\n",
       "    </tr>\n",
       "    <tr>\n",
       "      <th>max</th>\n",
       "      <td>1.000000</td>\n",
       "      <td>1.000000</td>\n",
       "      <td>1.000000</td>\n",
       "      <td>1.000000</td>\n",
       "      <td>1.000000</td>\n",
       "    </tr>\n",
       "  </tbody>\n",
       "</table>\n",
       "</div>"
      ],
      "text/plain": [
       "          PSAVERT         PCE     UEMPMED         POP    UNEMPLOY\n",
       "count  683.000000  683.000000  683.000000  683.000000  683.000000\n",
       "mean     0.252169    0.334424    0.354738    0.798090    0.335201\n",
       "std      0.110218    0.261647    0.159882    0.127097    0.115571\n",
       "min      0.043750    0.026203    0.083333    0.590322    0.116284\n",
       "25%      0.171875    0.101669    0.248016    0.684835    0.268471\n",
       "50%      0.231250    0.262993    0.325397    0.795990    0.320398\n",
       "75%      0.340625    0.526621    0.380952    0.918284    0.371784\n",
       "max      1.000000    1.000000    1.000000    1.000000    1.000000"
      ]
     },
     "execution_count": 48,
     "metadata": {},
     "output_type": "execute_result"
    }
   ],
   "source": [
    "# Creating Arrays for the Features and the Response Variable\n",
    "target_column = ['UNEMPLOY']\n",
    "predictors = list(set(list(df.columns))-set(target_column))\n",
    "df[predictors] = df[predictors]/df[predictors].max()\n",
    "df.describe()"
   ]
  },
  {
   "cell_type": "code",
   "execution_count": 49,
   "id": "4cfa70d7",
   "metadata": {},
   "outputs": [],
   "source": [
    "# Creating the Training and Test Datasets\n",
    "X=df[predictors].values"
   ]
  },
  {
   "cell_type": "code",
   "execution_count": 50,
   "id": "7b72152b",
   "metadata": {},
   "outputs": [],
   "source": [
    "y = df[target_column].values\n"
   ]
  },
  {
   "cell_type": "code",
   "execution_count": 51,
   "id": "91311f76",
   "metadata": {},
   "outputs": [],
   "source": [
    "X_train,X_test,y_train,y_test=train_test_split(X,y,test_size=0.30)"
   ]
  },
  {
   "cell_type": "code",
   "execution_count": 52,
   "id": "27d448cf",
   "metadata": {},
   "outputs": [
    {
     "data": {
      "text/plain": [
       "((478, 4), (205, 4))"
      ]
     },
     "execution_count": 52,
     "metadata": {},
     "output_type": "execute_result"
    }
   ],
   "source": [
    "X_train.shape,X_test.shape"
   ]
  },
  {
   "cell_type": "code",
   "execution_count": 56,
   "id": "1feef4d6",
   "metadata": {},
   "outputs": [],
   "source": [
    "# Building the Deep Learning Regression Model\n",
    "\n",
    "# define the model\n",
    "model=Sequential()\n",
    "model.add(Dense(500,input_dim=4,activation=\"relu\"))\n",
    "model.add(Dense(500,activation=\"relu\"))\n",
    "model.add(Dense(50,activation=\"relu\"))\n",
    "model.add(Dense(1))"
   ]
  },
  {
   "cell_type": "code",
   "execution_count": 57,
   "id": "ceef5799",
   "metadata": {},
   "outputs": [
    {
     "name": "stdout",
     "output_type": "stream",
     "text": [
      "Model: \"sequential\"\n",
      "_________________________________________________________________\n",
      " Layer (type)                Output Shape              Param #   \n",
      "=================================================================\n",
      " dense (Dense)               (None, 500)               2500      \n",
      "                                                                 \n",
      " dense_1 (Dense)             (None, 500)               250500    \n",
      "                                                                 \n",
      " dense_2 (Dense)             (None, 50)                25050     \n",
      "                                                                 \n",
      " dense_3 (Dense)             (None, 1)                 51        \n",
      "                                                                 \n",
      "=================================================================\n",
      "Total params: 278101 (1.06 MB)\n",
      "Trainable params: 278101 (1.06 MB)\n",
      "Non-trainable params: 0 (0.00 Byte)\n",
      "_________________________________________________________________\n"
     ]
    }
   ],
   "source": [
    "model.summary()  #print model summary"
   ]
  },
  {
   "cell_type": "code",
   "execution_count": 60,
   "id": "10a417ef",
   "metadata": {},
   "outputs": [
    {
     "name": "stdout",
     "output_type": "stream",
     "text": [
      "Epoch 1/20\n",
      "15/15 [==============================] - 2s 13ms/step - loss: 0.0164 - mean_squared_error: 0.0164\n",
      "Epoch 2/20\n",
      "15/15 [==============================] - 0s 9ms/step - loss: 0.0054 - mean_squared_error: 0.0054\n",
      "Epoch 3/20\n",
      "15/15 [==============================] - 0s 9ms/step - loss: 0.0033 - mean_squared_error: 0.0033\n",
      "Epoch 4/20\n",
      "15/15 [==============================] - 0s 8ms/step - loss: 0.0031 - mean_squared_error: 0.0031\n",
      "Epoch 5/20\n",
      "15/15 [==============================] - 0s 11ms/step - loss: 0.0025 - mean_squared_error: 0.0025\n",
      "Epoch 6/20\n",
      "15/15 [==============================] - 0s 7ms/step - loss: 0.0026 - mean_squared_error: 0.0026\n",
      "Epoch 7/20\n",
      "15/15 [==============================] - 0s 7ms/step - loss: 0.0025 - mean_squared_error: 0.0025\n",
      "Epoch 8/20\n",
      "15/15 [==============================] - 0s 7ms/step - loss: 0.0022 - mean_squared_error: 0.0022\n",
      "Epoch 9/20\n",
      "15/15 [==============================] - 0s 8ms/step - loss: 0.0020 - mean_squared_error: 0.0020\n",
      "Epoch 10/20\n",
      "15/15 [==============================] - 0s 7ms/step - loss: 0.0020 - mean_squared_error: 0.0020  \n",
      "Epoch 11/20\n",
      "15/15 [==============================] - 0s 7ms/step - loss: 0.0019 - mean_squared_error: 0.0019\n",
      "Epoch 12/20\n",
      "15/15 [==============================] - 0s 7ms/step - loss: 0.0022 - mean_squared_error: 0.0022\n",
      "Epoch 13/20\n",
      "15/15 [==============================] - 0s 7ms/step - loss: 0.0019 - mean_squared_error: 0.0019\n",
      "Epoch 14/20\n",
      "15/15 [==============================] - 0s 7ms/step - loss: 0.0017 - mean_squared_error: 0.0017\n",
      "Epoch 15/20\n",
      "15/15 [==============================] - 0s 7ms/step - loss: 0.0016 - mean_squared_error: 0.0016\n",
      "Epoch 16/20\n",
      "15/15 [==============================] - 0s 7ms/step - loss: 0.0019 - mean_squared_error: 0.0019\n",
      "Epoch 17/20\n",
      "15/15 [==============================] - 0s 7ms/step - loss: 0.0021 - mean_squared_error: 0.0021\n",
      "Epoch 18/20\n",
      "15/15 [==============================] - 0s 8ms/step - loss: 0.0014 - mean_squared_error: 0.0014\n",
      "Epoch 19/20\n",
      "15/15 [==============================] - 0s 8ms/step - loss: 0.0015 - mean_squared_error: 0.0015\n",
      "Epoch 20/20\n",
      "15/15 [==============================] - 0s 8ms/step - loss: 0.0012 - mean_squared_error: 0.0012\n"
     ]
    },
    {
     "data": {
      "text/plain": [
       "<keras.src.callbacks.History at 0x1a626205ad0>"
      ]
     },
     "execution_count": 60,
     "metadata": {},
     "output_type": "execute_result"
    }
   ],
   "source": [
    "# define an optimizer and the loss measure for training\n",
    "model.compile(loss=\"mean_squared_error\",optimizer=\"adam\",metrics=[\"mean_squared_error\"])\n",
    "model.fit(X_train,y_train,epochs=20)           "
   ]
  },
  {
   "cell_type": "code",
   "execution_count": 62,
   "id": "c9b3bcc4",
   "metadata": {},
   "outputs": [
    {
     "name": "stdout",
     "output_type": "stream",
     "text": [
      "15/15 [==============================] - 0s 4ms/step\n",
      "0.03694908111807845\n",
      "7/7 [==============================] - 0s 4ms/step\n",
      "0.04067949823443521\n"
     ]
    }
   ],
   "source": [
    "# Predict on the Test Data and Compute Evaluation Metrics\n",
    "pred_train=model.predict(X_train)\n",
    "print(np.sqrt(mean_squared_error(y_train,pred_train)))\n",
    "\n",
    "pred=model.predict(X_test)\n",
    "print(np.sqrt(mean_squared_error(y_test,pred)))"
   ]
  }
 ],
 "metadata": {
  "kernelspec": {
   "display_name": "Python 3 (ipykernel)",
   "language": "python",
   "name": "python3"
  },
  "language_info": {
   "codemirror_mode": {
    "name": "ipython",
    "version": 3
   },
   "file_extension": ".py",
   "mimetype": "text/x-python",
   "name": "python",
   "nbconvert_exporter": "python",
   "pygments_lexer": "ipython3",
   "version": "3.11.4"
  }
 },
 "nbformat": 4,
 "nbformat_minor": 5
}
