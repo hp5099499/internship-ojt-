{
 "cells": [
  {
   "cell_type": "code",
   "execution_count": 1,
   "id": "f6cf8201",
   "metadata": {},
   "outputs": [],
   "source": [
    "import numpy as np"
   ]
  },
  {
   "cell_type": "code",
   "execution_count": 6,
   "id": "5fd2a799",
   "metadata": {},
   "outputs": [],
   "source": [
    "A=np.array([[56.0,0.0,4.4,68.0],\n",
    "           [1.2,104.0,52.0,8.0],\n",
    "           [1.8,135.0,99.0,0.9]])"
   ]
  },
  {
   "cell_type": "code",
   "execution_count": 8,
   "id": "fcc67691",
   "metadata": {},
   "outputs": [
    {
     "name": "stdout",
     "output_type": "stream",
     "text": [
      "[[ 56.    0.    4.4  68. ]\n",
      " [  1.2 104.   52.    8. ]\n",
      " [  1.8 135.   99.    0.9]]\n"
     ]
    }
   ],
   "source": [
    "print(A)"
   ]
  },
  {
   "cell_type": "code",
   "execution_count": 9,
   "id": "d36d121c",
   "metadata": {},
   "outputs": [],
   "source": [
    "cal=A.sum(axis=0)"
   ]
  },
  {
   "cell_type": "code",
   "execution_count": 10,
   "id": "be6ec9b4",
   "metadata": {},
   "outputs": [
    {
     "data": {
      "text/plain": [
       "array([ 59. , 239. , 155.4,  76.9])"
      ]
     },
     "execution_count": 10,
     "metadata": {},
     "output_type": "execute_result"
    }
   ],
   "source": [
    "cal"
   ]
  },
  {
   "cell_type": "code",
   "execution_count": 12,
   "id": "9f64c6ce",
   "metadata": {},
   "outputs": [
    {
     "data": {
      "text/plain": [
       "array([[94.91525424,  0.        ,  2.83140283, 88.42652796],\n",
       "       [ 2.03389831, 43.51464435, 33.46203346, 10.40312094],\n",
       "       [ 3.05084746, 56.48535565, 63.70656371,  1.17035111]])"
      ]
     },
     "execution_count": 12,
     "metadata": {},
     "output_type": "execute_result"
    }
   ],
   "source": [
    "percentage=100*A/cal\n",
    "percentage"
   ]
  },
  {
   "cell_type": "markdown",
   "id": "c4f10943",
   "metadata": {},
   "source": [
    "## python numpy vectors"
   ]
  },
  {
   "cell_type": "code",
   "execution_count": 14,
   "id": "7e184893",
   "metadata": {},
   "outputs": [
    {
     "name": "stdout",
     "output_type": "stream",
     "text": [
      "[0.29859191 0.24606097 0.3854729  0.15019312 0.34947355]\n"
     ]
    }
   ],
   "source": [
    "a=np.random.rand(5)\n",
    "print(a)"
   ]
  },
  {
   "cell_type": "code",
   "execution_count": 15,
   "id": "79362888",
   "metadata": {},
   "outputs": [
    {
     "data": {
      "text/plain": [
       "(5,)"
      ]
     },
     "execution_count": 15,
     "metadata": {},
     "output_type": "execute_result"
    }
   ],
   "source": [
    "a.shape"
   ]
  },
  {
   "cell_type": "code",
   "execution_count": 16,
   "id": "c6a7c530",
   "metadata": {},
   "outputs": [
    {
     "name": "stdout",
     "output_type": "stream",
     "text": [
      "[0.29859191 0.24606097 0.3854729  0.15019312 0.34947355]\n"
     ]
    }
   ],
   "source": [
    "print(a.T)"
   ]
  },
  {
   "cell_type": "code",
   "execution_count": 17,
   "id": "59fbd377",
   "metadata": {},
   "outputs": [
    {
     "name": "stdout",
     "output_type": "stream",
     "text": [
      "0.4429822197837365\n"
     ]
    }
   ],
   "source": [
    "print(np.dot(a,a.T))"
   ]
  },
  {
   "cell_type": "code",
   "execution_count": 18,
   "id": "6f8ccce6",
   "metadata": {},
   "outputs": [
    {
     "name": "stdout",
     "output_type": "stream",
     "text": [
      "[[0.77618303]\n",
      " [0.56629904]\n",
      " [0.80694133]\n",
      " [0.72866913]\n",
      " [0.87077305]]\n",
      "[0.29859191 0.24606097 0.3854729  0.15019312 0.34947355]\n"
     ]
    }
   ],
   "source": [
    "print(np.random.rand(5,1))\n",
    "print(a)"
   ]
  },
  {
   "cell_type": "code",
   "execution_count": 19,
   "id": "31d34ef7",
   "metadata": {},
   "outputs": [
    {
     "data": {
      "text/plain": [
       "array([0.29859191, 0.24606097, 0.3854729 , 0.15019312, 0.34947355])"
      ]
     },
     "execution_count": 19,
     "metadata": {},
     "output_type": "execute_result"
    }
   ],
   "source": [
    "a.T"
   ]
  },
  {
   "cell_type": "code",
   "execution_count": 20,
   "id": "e9d9dfb8",
   "metadata": {},
   "outputs": [
    {
     "name": "stdout",
     "output_type": "stream",
     "text": [
      "0.4429822197837365\n"
     ]
    }
   ],
   "source": [
    "print(np.dot(a,a.))"
   ]
  },
  {
   "cell_type": "markdown",
   "id": "62bb6e9e",
   "metadata": {},
   "source": [
    "<!-- Logistic Regression with a Neural Network mindset -->\n",
    "Welcome to your second programming assignment, you wil implemant an algorithm rocognizing oat facos on imagos. You wil have to use what you\n",
    "implemented in the firsi programming assignment (\"Python Basios\").\n",
    "\n",
    "<!-- Rules of this assignment:\n",
    " -->\n",
    ". You are not allowed to use any loop (for/while), unless it is oxpliotly state you can.\n",
    ". Go through the assignment along with our axplanatory assignment vidoo optionnl].\n",
    "\n",
    "<!-- You will learn toe -->\n",
    "\n",
    ". Build the genoral architecture of a leaming algorithm, including:\n",
    ". Ininlizing parameiers\n",
    ". Calculating the cost function aind its gradiont\n",
    ". Bulding an optimization function (stochastio gradiont descent)\n",
    ". Gather all single unctions in a main model function, in the right order.\n"
   ]
  },
  {
   "cell_type": "markdown",
   "id": "ba157945",
   "metadata": {},
   "source": [
    "1) Packages\n",
    "Let's first import all the packages that you will neod during this nssignment.\n",
    "\n",
    ". numpy is the fundamental pockage for scientific compuing with Python.\n",
    ". h5py is a common paokage to internet wih a datnset that is stored on an H5 file.\n",
    ". matploilb is a famous library to plot graphs in Python.\n",
    "\n"
   ]
  },
  {
   "cell_type": "code",
   "execution_count": 25,
   "id": "b25dab9b",
   "metadata": {},
   "outputs": [
    {
     "name": "stdout",
     "output_type": "stream",
     "text": [
      "Hello World\n"
     ]
    }
   ],
   "source": [
    "import numpy as np\n",
    "import matplotlib.pyplot as plt\n",
    "import h5py\n",
    "\n",
    "%matplotlib inline\n",
    "\n",
    "### START CODE NEMETOON (= 3 Lines of codr)\n",
    "print (\"Hello World\")\n",
    "# O END CODE HERE"
   ]
  },
  {
   "cell_type": "markdown",
   "id": "7be43a45",
   "metadata": {},
   "source": [
    "2) Overview of the Problem set\n",
    "Problem Statement: You are given a dataset (\"data.h5\") containing:\n",
    "\n",
    "- a training set of m_train images labeled as cat (1) or mon-cat (0)\n",
    "- a test set of m_test images labeled as cat and non-cat\n",
    "- each image is of shape (num_px, num_px, 3) where 3 is for the 3 chanmels (RGB).\n",
    "\n",
    "You will build a simple image-recognition algorithm that can correctly classily pictures as cat or non-cat.\n",
    "\n",
    "Let's get more familiar with the dataset. Load the data by running the following code.\n",
    "\n"
   ]
  },
  {
   "cell_type": "code",
   "execution_count": 30,
   "id": "edbca8ce",
   "metadata": {},
   "outputs": [
    {
     "ename": "SyntaxError",
     "evalue": "invalid syntax (1761186405.py, line 4)",
     "output_type": "error",
     "traceback": [
      "\u001b[1;36m  Cell \u001b[1;32mIn[30], line 4\u001b[1;36m\u001b[0m\n\u001b[1;33m    train_set_y m mo.array(train_dataset[\"train_set_y\"][:]) #your troin set Lobels\u001b[0m\n\u001b[1;37m                ^\u001b[0m\n\u001b[1;31mSyntaxError\u001b[0m\u001b[1;31m:\u001b[0m invalid syntax\n"
     ]
    }
   ],
   "source": [
    "# Loading the data (cot/non-cat)\n",
    "train_dataset = h5py.File(\"datasets/traim_catvnoncat.h5\", \"r\")\n",
    "train_set_x = np.array(traim_dataset[\"erain_set_x\"][:]) # your troin set features\n",
    "train_set_y = np.array(train_dataset[\"train_set_y\"][:]) #your troin set Lobels\n",
    "\n",
    "test_dataset = hSpy.File(\"datasets/test_catvnoncat.h5\", \"r\")\n",
    "test_set_x = np.array(test_dataset[\"test.set_x\"][:]) # your test set features\n",
    "test_set_y = p.array(test_dataset[\"test_set_y\"][:]) # your test set Lobels\n",
    "\n",
    "classes = np.array(test_dataset[\"list_classes\"][:]) # the List of closses"
   ]
  },
  {
   "cell_type": "code",
   "execution_count": null,
   "id": "275c9317",
   "metadata": {},
   "outputs": [],
   "source": []
  }
 ],
 "metadata": {
  "kernelspec": {
   "display_name": "Python 3 (ipykernel)",
   "language": "python",
   "name": "python3"
  },
  "language_info": {
   "codemirror_mode": {
    "name": "ipython",
    "version": 3
   },
   "file_extension": ".py",
   "mimetype": "text/x-python",
   "name": "python",
   "nbconvert_exporter": "python",
   "pygments_lexer": "ipython3",
   "version": "3.11.4"
  }
 },
 "nbformat": 4,
 "nbformat_minor": 5
}
