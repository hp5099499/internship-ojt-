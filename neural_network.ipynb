{
 "cells": [
  {
   "cell_type": "code",
   "execution_count": 1,
   "id": "51fb3f0e",
   "metadata": {},
   "outputs": [],
   "source": [
    "import pandas as pd\n",
    "import matplotlib.pyplot as plt\n",
    "import numpy as np"
   ]
  },
  {
   "cell_type": "markdown",
   "id": "e01f2f4f",
   "metadata": {},
   "source": [
    "## Generating the random data set for model"
   ]
  },
  {
   "cell_type": "code",
   "execution_count": 4,
   "id": "780043d1",
   "metadata": {},
   "outputs": [],
   "source": [
    "X=np.vstack([(np.random.rand(10,2)*5),(np.random.rand(10,2)*10)])\n",
    "Y=np.hstack([[0]*10,[1]*10])\n",
    "dataset=pd.DataFrame(X,columns=[\"X1\",\"X2\"])\n",
    "dataset[\"Y\"]=Y"
   ]
  },
  {
   "cell_type": "code",
   "execution_count": 5,
   "id": "f9dea49c",
   "metadata": {},
   "outputs": [
    {
     "data": {
      "text/html": [
       "<div>\n",
       "<style scoped>\n",
       "    .dataframe tbody tr th:only-of-type {\n",
       "        vertical-align: middle;\n",
       "    }\n",
       "\n",
       "    .dataframe tbody tr th {\n",
       "        vertical-align: top;\n",
       "    }\n",
       "\n",
       "    .dataframe thead th {\n",
       "        text-align: right;\n",
       "    }\n",
       "</style>\n",
       "<table border=\"1\" class=\"dataframe\">\n",
       "  <thead>\n",
       "    <tr style=\"text-align: right;\">\n",
       "      <th></th>\n",
       "      <th>X1</th>\n",
       "      <th>X2</th>\n",
       "      <th>Y</th>\n",
       "    </tr>\n",
       "  </thead>\n",
       "  <tbody>\n",
       "    <tr>\n",
       "      <th>0</th>\n",
       "      <td>3.684646</td>\n",
       "      <td>3.836245</td>\n",
       "      <td>0</td>\n",
       "    </tr>\n",
       "    <tr>\n",
       "      <th>1</th>\n",
       "      <td>2.099911</td>\n",
       "      <td>2.019766</td>\n",
       "      <td>0</td>\n",
       "    </tr>\n",
       "    <tr>\n",
       "      <th>2</th>\n",
       "      <td>1.654705</td>\n",
       "      <td>0.009798</td>\n",
       "      <td>0</td>\n",
       "    </tr>\n",
       "    <tr>\n",
       "      <th>3</th>\n",
       "      <td>3.478078</td>\n",
       "      <td>2.187687</td>\n",
       "      <td>0</td>\n",
       "    </tr>\n",
       "    <tr>\n",
       "      <th>4</th>\n",
       "      <td>0.069715</td>\n",
       "      <td>3.489528</td>\n",
       "      <td>0</td>\n",
       "    </tr>\n",
       "    <tr>\n",
       "      <th>5</th>\n",
       "      <td>3.868130</td>\n",
       "      <td>4.491539</td>\n",
       "      <td>0</td>\n",
       "    </tr>\n",
       "    <tr>\n",
       "      <th>6</th>\n",
       "      <td>3.232559</td>\n",
       "      <td>4.163266</td>\n",
       "      <td>0</td>\n",
       "    </tr>\n",
       "    <tr>\n",
       "      <th>7</th>\n",
       "      <td>2.462150</td>\n",
       "      <td>1.565693</td>\n",
       "      <td>0</td>\n",
       "    </tr>\n",
       "    <tr>\n",
       "      <th>8</th>\n",
       "      <td>2.283964</td>\n",
       "      <td>3.183258</td>\n",
       "      <td>0</td>\n",
       "    </tr>\n",
       "    <tr>\n",
       "      <th>9</th>\n",
       "      <td>2.731703</td>\n",
       "      <td>1.389784</td>\n",
       "      <td>0</td>\n",
       "    </tr>\n",
       "    <tr>\n",
       "      <th>10</th>\n",
       "      <td>0.359976</td>\n",
       "      <td>4.346635</td>\n",
       "      <td>1</td>\n",
       "    </tr>\n",
       "    <tr>\n",
       "      <th>11</th>\n",
       "      <td>1.950508</td>\n",
       "      <td>8.353354</td>\n",
       "      <td>1</td>\n",
       "    </tr>\n",
       "    <tr>\n",
       "      <th>12</th>\n",
       "      <td>2.655605</td>\n",
       "      <td>7.102928</td>\n",
       "      <td>1</td>\n",
       "    </tr>\n",
       "    <tr>\n",
       "      <th>13</th>\n",
       "      <td>7.733657</td>\n",
       "      <td>9.215173</td>\n",
       "      <td>1</td>\n",
       "    </tr>\n",
       "    <tr>\n",
       "      <th>14</th>\n",
       "      <td>5.256110</td>\n",
       "      <td>8.055092</td>\n",
       "      <td>1</td>\n",
       "    </tr>\n",
       "    <tr>\n",
       "      <th>15</th>\n",
       "      <td>8.036262</td>\n",
       "      <td>0.734832</td>\n",
       "      <td>1</td>\n",
       "    </tr>\n",
       "    <tr>\n",
       "      <th>16</th>\n",
       "      <td>8.589229</td>\n",
       "      <td>6.481497</td>\n",
       "      <td>1</td>\n",
       "    </tr>\n",
       "    <tr>\n",
       "      <th>17</th>\n",
       "      <td>7.352623</td>\n",
       "      <td>3.501006</td>\n",
       "      <td>1</td>\n",
       "    </tr>\n",
       "    <tr>\n",
       "      <th>18</th>\n",
       "      <td>6.866699</td>\n",
       "      <td>9.090588</td>\n",
       "      <td>1</td>\n",
       "    </tr>\n",
       "    <tr>\n",
       "      <th>19</th>\n",
       "      <td>0.556305</td>\n",
       "      <td>1.635322</td>\n",
       "      <td>1</td>\n",
       "    </tr>\n",
       "  </tbody>\n",
       "</table>\n",
       "</div>"
      ],
      "text/plain": [
       "          X1        X2  Y\n",
       "0   3.684646  3.836245  0\n",
       "1   2.099911  2.019766  0\n",
       "2   1.654705  0.009798  0\n",
       "3   3.478078  2.187687  0\n",
       "4   0.069715  3.489528  0\n",
       "5   3.868130  4.491539  0\n",
       "6   3.232559  4.163266  0\n",
       "7   2.462150  1.565693  0\n",
       "8   2.283964  3.183258  0\n",
       "9   2.731703  1.389784  0\n",
       "10  0.359976  4.346635  1\n",
       "11  1.950508  8.353354  1\n",
       "12  2.655605  7.102928  1\n",
       "13  7.733657  9.215173  1\n",
       "14  5.256110  8.055092  1\n",
       "15  8.036262  0.734832  1\n",
       "16  8.589229  6.481497  1\n",
       "17  7.352623  3.501006  1\n",
       "18  6.866699  9.090588  1\n",
       "19  0.556305  1.635322  1"
      ]
     },
     "execution_count": 5,
     "metadata": {},
     "output_type": "execute_result"
    }
   ],
   "source": [
    "dataset"
   ]
  },
  {
   "cell_type": "markdown",
   "id": "6754b2bf",
   "metadata": {},
   "source": [
    "## ploting the dataset values"
   ]
  },
  {
   "cell_type": "code",
   "execution_count": 7,
   "id": "c2f354da",
   "metadata": {},
   "outputs": [
    {
     "data": {
      "text/plain": [
       "<matplotlib.legend.Legend at 0x207c5b5f250>"
      ]
     },
     "execution_count": 7,
     "metadata": {},
     "output_type": "execute_result"
    },
    {
     "data": {
      "image/png": "[encoded data removed]",
      "text/plain": [
       "<Figure size 640x480 with 1 Axes>"
      ]
     },
     "metadata": {},
     "output_type": "display_data"
    }
   ],
   "source": [
    "plt.plot(dataset,label='Inline label')\n",
    "plt.legend(['X2','X1','Y'])"
   ]
  },
  {
   "cell_type": "markdown",
   "id": "6ec05240",
   "metadata": {},
   "source": [
    "### converting the target variable to vector of number of classes"
   ]
  },
  {
   "cell_type": "code",
   "execution_count": 10,
   "id": "4589cabf",
   "metadata": {},
   "outputs": [],
   "source": [
    "Z=np.zeros((20,2))\n",
    "for i in range(20):\n",
    "    Z[i,Y[i]]=1"
   ]
  },
  {
   "cell_type": "code",
   "execution_count": 11,
   "id": "d3194303",
   "metadata": {},
   "outputs": [
    {
     "data": {
      "text/plain": [
       "(20, 2)"
      ]
     },
     "execution_count": 11,
     "metadata": {},
     "output_type": "execute_result"
    }
   ],
   "source": [
    "X.shape"
   ]
  },
  {
   "cell_type": "markdown",
   "id": "0de27c08",
   "metadata": {},
   "source": [
    "### Initiating the random weights and Bias"
   ]
  },
  {
   "cell_type": "code",
   "execution_count": 18,
   "id": "117c8222",
   "metadata": {},
   "outputs": [],
   "source": [
    "Wi_1=np.random.rand(3,2)\n",
    "Bi_1=np.random.rand(3)\n",
    "Wi_2=np.random.rand(3,2)\n",
    "Bi_2=np.random.rand(2)\n"
   ]
  },
  {
   "cell_type": "code",
   "execution_count": 19,
   "id": "45bb11e9",
   "metadata": {},
   "outputs": [
    {
     "data": {
      "text/plain": [
       "(array([[0.64794951, 0.26401636],\n",
       "        [0.30347387, 0.62669464],\n",
       "        [0.75242268, 0.17108933]]),\n",
       " array([[0.07667983, 0.84108716],\n",
       "        [0.63054524, 0.43361057],\n",
       "        [0.71125461, 0.73600609]]))"
      ]
     },
     "execution_count": 19,
     "metadata": {},
     "output_type": "execute_result"
    }
   ],
   "source": [
    "Wi_1,Wi_2"
   ]
  },
  {
   "cell_type": "code",
   "execution_count": 20,
   "id": "3b2f4d7a",
   "metadata": {},
   "outputs": [
    {
     "data": {
      "text/plain": [
       "(array([0.69316275, 0.72787176, 0.9144776 ]), array([0.60496906, 0.93363277]))"
      ]
     },
     "execution_count": 20,
     "metadata": {},
     "output_type": "execute_result"
    }
   ],
   "source": [
    "Bi_1,Bi_2"
   ]
  },
  {
   "cell_type": "code",
   "execution_count": 21,
   "id": "a9cec5ec",
   "metadata": {},
   "outputs": [
    {
     "data": {
      "text/plain": [
       "array([[0.64794951, 0.30347387, 0.75242268],\n",
       "       [0.26401636, 0.62669464, 0.17108933]])"
      ]
     },
     "execution_count": 21,
     "metadata": {},
     "output_type": "execute_result"
    }
   ],
   "source": [
    "Wi_1.T"
   ]
  },
  {
   "cell_type": "code",
   "execution_count": 22,
   "id": "3da21923",
   "metadata": {},
   "outputs": [
    {
     "data": {
      "text/plain": [
       "array([[3.68464593, 3.83624485],\n",
       "       [2.09991083, 2.01976622],\n",
       "       [1.65470472, 0.00979811],\n",
       "       [3.47807835, 2.18768685],\n",
       "       [0.06971548, 3.48952838],\n",
       "       [3.86812961, 4.49153916],\n",
       "       [3.23255872, 4.16326588],\n",
       "       [2.46215022, 1.56569331],\n",
       "       [2.28396356, 3.1832583 ],\n",
       "       [2.73170287, 1.38978354],\n",
       "       [0.35997579, 4.34663493],\n",
       "       [1.95050802, 8.35335447],\n",
       "       [2.65560486, 7.10292781],\n",
       "       [7.73365722, 9.21517348],\n",
       "       [5.25610994, 8.05509211],\n",
       "       [8.03626188, 0.73483223],\n",
       "       [8.58922886, 6.48149675],\n",
       "       [7.35262327, 3.50100583],\n",
       "       [6.86669925, 9.09058844],\n",
       "       [0.55630451, 1.63532216]])"
      ]
     },
     "execution_count": 22,
     "metadata": {},
     "output_type": "execute_result"
    }
   ],
   "source": [
    "X"
   ]
  },
  {
   "cell_type": "code",
   "execution_count": 24,
   "id": "e219f159",
   "metadata": {},
   "outputs": [
    {
     "data": {
      "text/plain": [
       "(20, 2)"
      ]
     },
     "execution_count": 24,
     "metadata": {},
     "output_type": "execute_result"
    }
   ],
   "source": [
    "X.shape"
   ]
  },
  {
   "cell_type": "code",
   "execution_count": 26,
   "id": "0c52356b",
   "metadata": {},
   "outputs": [
    {
     "data": {
      "text/plain": [
       "array([[3.40029594, 3.52234785, 3.42875172],\n",
       "       [1.89388752, 1.90304473, 1.92558098],\n",
       "       [1.07475198, 0.50830006, 1.24671371],\n",
       "       [2.8312043 , 2.42651752, 2.99127491],\n",
       "       [0.96646469, 2.20802557, 0.64947657],\n",
       "       [3.69219252, 3.98869978, 3.67892286],\n",
       "       [3.19370515, 3.59009352, 3.14454085],\n",
       "       [2.00871769, 1.72840986, 2.12045108],\n",
       "       [2.32032535, 2.68805418, 2.2631275 ],\n",
       "       [2.13693114, 1.69997034, 2.29317233],\n",
       "       [1.38082888, 2.83325608, 1.0145168 ],\n",
       "       [3.46925297, 5.82693072, 2.89677627],\n",
       "       [3.59598702, 5.25727349, 3.21337246],\n",
       "       [7.44397599, 8.12206272, 7.39559692],\n",
       "       [5.53236998, 6.64317509, 5.33295662],\n",
       "       [5.40109971, 2.89931089, 6.17238766],\n",
       "       [7.27660784, 6.66852579, 7.57164552],\n",
       "       [5.68845149, 4.42539061, 6.13126524],\n",
       "       [6.84933852, 7.78088686, 6.72196292],\n",
       "       [0.79220904, 1.19367152, 0.6983623 ]])"
      ]
     },
     "execution_count": 26,
     "metadata": {},
     "output_type": "execute_result"
    }
   ],
   "source": [
    "X.dot(Wi_1.T)"
   ]
  },
  {
   "cell_type": "markdown",
   "id": "2cedbcd9",
   "metadata": {},
   "source": [
    "### Defining the forward propagation function "
   ]
  },
  {
   "cell_type": "code",
   "execution_count": 32,
   "id": "1e8aa1b9",
   "metadata": {},
   "outputs": [],
   "source": [
    "def forward_prop(X, Wi_1, Bi_1, Wi_2, Bi_2):\n",
    "    # First layer-----sigmoid fn\n",
    "    M = 1 / (1 + np.exp(-(X.dot(Wi_1.T) + Bi_1)))\n",
    "    \n",
    "    # Second layer---softmax(y-output,M-weight)\n",
    "    A = M.dot(Wi_2) + Bi_2\n",
    "    expA = np.exp(A)\n",
    "    Y = expA / expA.sum(axis=1, keepdims=True)\n",
    "    \n",
    "    return Y, M"
   ]
  },
  {
   "cell_type": "code",
   "execution_count": 33,
   "id": "82f142cd",
   "metadata": {},
   "outputs": [
    {
     "data": {
      "text/plain": [
       "(array([[0.28683674, 0.71316326],\n",
       "        [0.29333112, 0.70666888],\n",
       "        [0.29917913, 0.70082087],\n",
       "        [0.28770115, 0.71229885],\n",
       "        [0.30909166, 0.69090834],\n",
       "        [0.28639045, 0.71360955],\n",
       "        [0.28747169, 0.71252831],\n",
       "        [0.29167686, 0.70832314],\n",
       "        [0.29103339, 0.70896661],\n",
       "        [0.2904294 , 0.7095706 ],\n",
       "        [0.30198967, 0.69801033],\n",
       "        [0.28722237, 0.71277763],\n",
       "        [0.28686761, 0.71313239],\n",
       "        [0.28481804, 0.71518196],\n",
       "        [0.28506903, 0.71493097],\n",
       "        [0.28409318, 0.71590682],\n",
       "        [0.28480729, 0.71519271],\n",
       "        [0.28481393, 0.71518607],\n",
       "        [0.28485386, 0.71514614],\n",
       "        [0.30985487, 0.69014513]]),\n",
       " array([[0.98359227, 0.98593942, 0.98717219],\n",
       "        [0.93002349, 0.932825  , 0.94480252],\n",
       "        [0.85419815, 0.77489696, 0.89670994],\n",
       "        [0.97137319, 0.95908132, 0.98027125],\n",
       "        [0.84018798, 0.94959271, 0.82692002],\n",
       "        [0.98769484, 0.99113352, 0.98998296],\n",
       "        [0.9799027 , 0.9868483 , 0.9830271 ],\n",
       "        [0.93713751, 0.9210196 , 0.95412738],\n",
       "        [0.95317977, 0.96819857, 0.95998277],\n",
       "        [0.94428054, 0.91892591, 0.96112114],\n",
       "        [0.88834948, 0.97237789, 0.87313807],\n",
       "        [0.98466881, 0.99857876, 0.9783583 ],\n",
       "        [0.98646902, 0.99749047, 0.98413816],\n",
       "        [0.99970761, 0.99985663, 0.99975403],\n",
       "        [0.99802564, 0.99937119, 0.99806832],\n",
       "        [0.9977493 , 0.97409777, 0.99916468],\n",
       "        [0.99965436, 0.99938692, 0.99979373],\n",
       "        [0.99831047, 0.99425271, 0.99912965],\n",
       "        [0.99947021, 0.99979835, 0.99951769],\n",
       "        [0.81538259, 0.87231043, 0.8338053 ]]))"
      ]
     },
     "execution_count": 33,
     "metadata": {},
     "output_type": "execute_result"
    }
   ],
   "source": [
    "forward_prop(X,Wi_1,Bi_1,Wi_2,Bi_2)"
   ]
  },
  {
   "cell_type": "markdown",
   "id": "6da6be7d",
   "metadata": {},
   "source": [
    "### Backpropagation by Differentiating the gradient descent"
   ]
  },
  {
   "cell_type": "code",
   "execution_count": 39,
   "id": "29da475d",
   "metadata": {},
   "outputs": [],
   "source": [
    "# returns the gradient descent for the weight_2\n",
    "def diff_Wi_2(H,Z,Y):\n",
    "    return H.T.dot(Z-Y)"
   ]
  },
  {
   "cell_type": "code",
   "execution_count": 40,
   "id": "0e190742",
   "metadata": {},
   "outputs": [],
   "source": [
    "# returns the gradient descent for the weight_2\n",
    "def diff_Wi_1(X,H,Z,output,Wi_2):\n",
    "    dZ=(Z-output).dot(Wi_2.T)*H*(1-H)\n",
    "    return X.T.dot(dZ)\n"
   ]
  },
  {
   "cell_type": "code",
   "execution_count": 43,
   "id": "4b789428",
   "metadata": {},
   "outputs": [],
   "source": [
    "# returns derivative for the both sides\n",
    "def diff_B2(Z,Y):\n",
    "    return (Z-Y).sum(axis=0)\n",
    "\n",
    "def diff_B1(Z,Y,Wi_2,H):\n",
    "    return ((Z-Y).dot(Wi_2.T)*H*(1-H)).sum(axis=0)"
   ]
  },
  {
   "cell_type": "code",
   "execution_count": 47,
   "id": "bd2053c2",
   "metadata": {},
   "outputs": [],
   "source": [
    "learning_rate=1e-3\n",
    "for epoch in range(5000):\n",
    "    output,hidden=forward_prop(X,Wi_1,Bi_1,Wi_2,Bi_2)\n",
    "    Wi_2+=learning_rate*diff_Wi_2(hidden,Z,output)\n",
    "    Bi_2+=learning_rate*diff_B2(Z,output)  \n",
    "    Wi_1+=learning_rate*diff_Wi_1(X,hidden,Z,output,Wi_2).T\n",
    "    Bi_1+=learning_rate*diff_B1(Z,output,Wi_2,hidden)    \n",
    "    \n",
    "    "
   ]
  },
  {
   "cell_type": "markdown",
   "id": "bf412e6d",
   "metadata": {},
   "source": [
    "### Generating prediction at new Datapoint"
   ]
  },
  {
   "cell_type": "code",
   "execution_count": 51,
   "id": "484f41d9",
   "metadata": {},
   "outputs": [],
   "source": [
    "X_test=np.array([5,5])\n",
    "\n",
    "hidden_output=1/(1+np.exp(-X_test.dot(Wi_1.T) -Bi_1))\n",
    "Outer_layer_output=hidden_output.dot(Wi_2)+Bi_2\n",
    "expA=np.exp(Outer_layer_output)\n",
    "Y=expA/expA.sum()"
   ]
  },
  {
   "cell_type": "code",
   "execution_count": 61,
   "id": "b12622ee",
   "metadata": {},
   "outputs": [
    {
     "name": "stdout",
     "output_type": "stream",
     "text": [
      "prob of class 0>>>>> 0.3896157585315177 \n",
      "prob of class 1>>>>> 0.6103842414684822\n"
     ]
    }
   ],
   "source": [
    "print(\"prob of class 0>>>>> {} \\nprob of class 1>>>>> {}\".format(Y[0],Y[1]))"
   ]
  },
  {
   "cell_type": "code",
   "execution_count": null,
   "id": "e4c73c3f",
   "metadata": {},
   "outputs": [],
   "source": []
  }
 ],
 "metadata": {
  "kernelspec": {
   "display_name": "Python 3 (ipykernel)",
   "language": "python",
   "name": "python3"
  },
  "language_info": {
   "codemirror_mode": {
    "name": "ipython",
    "version": 3
   },
   "file_extension": ".py",
   "mimetype": "text/x-python",
   "name": "python",
   "nbconvert_exporter": "python",
   "pygments_lexer": "ipython3",
   "version": "3.11.4"
  }
 },
 "nbformat": 4,
 "nbformat_minor": 5
}
