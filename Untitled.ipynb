{
 "cells": [
  {
   "cell_type": "code",
   "execution_count": 267,
   "id": "fabb5c39",
   "metadata": {},
   "outputs": [],
   "source": [
    "import pandas as pd \n",
    "import matplotlib.pyplot as plt\n",
    "import seaborn as sns\n",
    "import numpy as np"
   ]
  },
  {
   "cell_type": "code",
   "execution_count": 268,
   "id": "bf91e596",
   "metadata": {},
   "outputs": [
    {
     "data": {
      "text/html": [
       "<div>\n",
       "<style scoped>\n",
       "    .dataframe tbody tr th:only-of-type {\n",
       "        vertical-align: middle;\n",
       "    }\n",
       "\n",
       "    .dataframe tbody tr th {\n",
       "        vertical-align: top;\n",
       "    }\n",
       "\n",
       "    .dataframe thead th {\n",
       "        text-align: right;\n",
       "    }\n",
       "</style>\n",
       "<table border=\"1\" class=\"dataframe\">\n",
       "  <thead>\n",
       "    <tr style=\"text-align: right;\">\n",
       "      <th></th>\n",
       "      <th>ref</th>\n",
       "      <th>state</th>\n",
       "      <th>constituency</th>\n",
       "      <th>won_status</th>\n",
       "      <th>votes</th>\n",
       "      <th>Name</th>\n",
       "      <th>Party_Name</th>\n",
       "    </tr>\n",
       "  </thead>\n",
       "  <tbody>\n",
       "    <tr>\n",
       "      <th>0</th>\n",
       "      <td>1</td>\n",
       "      <td>Ladakh</td>\n",
       "      <td>Ladakh(1)</td>\n",
       "      <td>won</td>\n",
       "      <td>65259</td>\n",
       "      <td>MOHMAD HANEEFA</td>\n",
       "      <td>Independent</td>\n",
       "    </tr>\n",
       "    <tr>\n",
       "      <th>1</th>\n",
       "      <td>2</td>\n",
       "      <td>Ladakh</td>\n",
       "      <td>Ladakh(1)</td>\n",
       "      <td>lost</td>\n",
       "      <td>37397</td>\n",
       "      <td>TSERING NAMGYAL</td>\n",
       "      <td>Indian National Congress</td>\n",
       "    </tr>\n",
       "    <tr>\n",
       "      <th>2</th>\n",
       "      <td>3</td>\n",
       "      <td>Ladakh</td>\n",
       "      <td>Ladakh(1)</td>\n",
       "      <td>lost</td>\n",
       "      <td>31956</td>\n",
       "      <td>TASHI GYALSON</td>\n",
       "      <td>Bharatiya Janata Party</td>\n",
       "    </tr>\n",
       "    <tr>\n",
       "      <th>3</th>\n",
       "      <td>4</td>\n",
       "      <td>Ladakh</td>\n",
       "      <td>Ladakh(1)</td>\n",
       "      <td>NaN</td>\n",
       "      <td>912</td>\n",
       "      <td>NOTA</td>\n",
       "      <td>None of the Above</td>\n",
       "    </tr>\n",
       "    <tr>\n",
       "      <th>4</th>\n",
       "      <td>5</td>\n",
       "      <td>Kerala</td>\n",
       "      <td>Kollam(18)</td>\n",
       "      <td>won</td>\n",
       "      <td>443628</td>\n",
       "      <td>N K PREMACHANDRAN</td>\n",
       "      <td>Revolutionary Socialist Party</td>\n",
       "    </tr>\n",
       "  </tbody>\n",
       "</table>\n",
       "</div>"
      ],
      "text/plain": [
       "   ref   state constituency won_status   votes               Name  \\\n",
       "0    1  Ladakh    Ladakh(1)        won   65259     MOHMAD HANEEFA   \n",
       "1    2  Ladakh    Ladakh(1)       lost   37397    TSERING NAMGYAL   \n",
       "2    3  Ladakh    Ladakh(1)       lost   31956      TASHI GYALSON   \n",
       "3    4  Ladakh    Ladakh(1)        NaN     912               NOTA   \n",
       "4    5  Kerala   Kollam(18)        won  443628  N K PREMACHANDRAN   \n",
       "\n",
       "                      Party_Name  \n",
       "0                    Independent  \n",
       "1       Indian National Congress  \n",
       "2         Bharatiya Janata Party  \n",
       "3              None of the Above  \n",
       "4  Revolutionary Socialist Party  "
      ]
     },
     "execution_count": 268,
     "metadata": {},
     "output_type": "execute_result"
    }
   ],
   "source": [
    "df=pd.read_csv(\"election_results.csv\")\n",
    "df.head()"
   ]
  },
  {
   "cell_type": "code",
   "execution_count": 269,
   "id": "e5240a77",
   "metadata": {},
   "outputs": [
    {
     "data": {
      "text/plain": [
       "(8902, 7)"
      ]
     },
     "execution_count": 269,
     "metadata": {},
     "output_type": "execute_result"
    }
   ],
   "source": [
    "# shape of the data\n",
    "df.shape"
   ]
  },
  {
   "cell_type": "code",
   "execution_count": 270,
   "id": "10c111d6",
   "metadata": {},
   "outputs": [
    {
     "name": "stdout",
     "output_type": "stream",
     "text": [
      "<class 'pandas.core.frame.DataFrame'>\n",
      "RangeIndex: 8902 entries, 0 to 8901\n",
      "Data columns (total 7 columns):\n",
      " #   Column        Non-Null Count  Dtype \n",
      "---  ------        --------------  ----- \n",
      " 0   ref           8902 non-null   int64 \n",
      " 1   state         8902 non-null   object\n",
      " 2   constituency  8902 non-null   object\n",
      " 3   won_status    8360 non-null   object\n",
      " 4   votes         8902 non-null   object\n",
      " 5   Name          8902 non-null   object\n",
      " 6   Party_Name    8902 non-null   object\n",
      "dtypes: int64(1), object(6)\n",
      "memory usage: 487.0+ KB\n"
     ]
    }
   ],
   "source": [
    "# information about the data\n",
    "df.info()"
   ]
  },
  {
   "cell_type": "code",
   "execution_count": 271,
   "id": "323f1004",
   "metadata": {},
   "outputs": [
    {
     "data": {
      "text/plain": [
       "ref               0\n",
       "state             0\n",
       "constituency      0\n",
       "won_status      542\n",
       "votes             0\n",
       "Name              0\n",
       "Party_Name        0\n",
       "dtype: int64"
      ]
     },
     "execution_count": 271,
     "metadata": {},
     "output_type": "execute_result"
    }
   ],
   "source": [
    "# finding the null values\n",
    "df.isnull().sum()"
   ]
  },
  {
   "cell_type": "code",
   "execution_count": 272,
   "id": "b859f9de",
   "metadata": {},
   "outputs": [
    {
     "data": {
      "text/html": [
       "<div>\n",
       "<style scoped>\n",
       "    .dataframe tbody tr th:only-of-type {\n",
       "        vertical-align: middle;\n",
       "    }\n",
       "\n",
       "    .dataframe tbody tr th {\n",
       "        vertical-align: top;\n",
       "    }\n",
       "\n",
       "    .dataframe thead th {\n",
       "        text-align: right;\n",
       "    }\n",
       "</style>\n",
       "<table border=\"1\" class=\"dataframe\">\n",
       "  <thead>\n",
       "    <tr style=\"text-align: right;\">\n",
       "      <th></th>\n",
       "      <th>state</th>\n",
       "      <th>constituency</th>\n",
       "      <th>won_status</th>\n",
       "      <th>votes</th>\n",
       "      <th>Name</th>\n",
       "      <th>Party_Name</th>\n",
       "    </tr>\n",
       "  </thead>\n",
       "  <tbody>\n",
       "    <tr>\n",
       "      <th>count</th>\n",
       "      <td>8902</td>\n",
       "      <td>8902</td>\n",
       "      <td>8360</td>\n",
       "      <td>8902</td>\n",
       "      <td>8902</td>\n",
       "      <td>8902</td>\n",
       "    </tr>\n",
       "    <tr>\n",
       "      <th>unique</th>\n",
       "      <td>36</td>\n",
       "      <td>96</td>\n",
       "      <td>2</td>\n",
       "      <td>6100</td>\n",
       "      <td>8101</td>\n",
       "      <td>746</td>\n",
       "    </tr>\n",
       "    <tr>\n",
       "      <th>top</th>\n",
       "      <td>Maharashtra</td>\n",
       "      <td>CHENNAI NORTH(2)</td>\n",
       "      <td>lost</td>\n",
       "      <td>799</td>\n",
       "      <td>NOTA</td>\n",
       "      <td>Independent</td>\n",
       "    </tr>\n",
       "    <tr>\n",
       "      <th>freq</th>\n",
       "      <td>1169</td>\n",
       "      <td>600</td>\n",
       "      <td>7817</td>\n",
       "      <td>8</td>\n",
       "      <td>542</td>\n",
       "      <td>3920</td>\n",
       "    </tr>\n",
       "  </tbody>\n",
       "</table>\n",
       "</div>"
      ],
      "text/plain": [
       "              state      constituency won_status votes  Name   Party_Name\n",
       "count          8902              8902       8360  8902  8902         8902\n",
       "unique           36                96          2  6100  8101          746\n",
       "top     Maharashtra  CHENNAI NORTH(2)       lost   799  NOTA  Independent\n",
       "freq           1169               600       7817     8   542         3920"
      ]
     },
     "execution_count": 272,
     "metadata": {},
     "output_type": "execute_result"
    }
   ],
   "source": [
    "# describing the data \n",
    "df.describe(include=['object'])"
   ]
  },
  {
   "cell_type": "code",
   "execution_count": 273,
   "id": "d36beb0c",
   "metadata": {},
   "outputs": [
    {
     "data": {
      "text/plain": [
       "ref             8902\n",
       "state           8902\n",
       "constituency    8902\n",
       "won_status      8360\n",
       "votes           8902\n",
       "Name            8902\n",
       "Party_Name      8902\n",
       "dtype: int64"
      ]
     },
     "execution_count": 273,
     "metadata": {},
     "output_type": "execute_result"
    }
   ],
   "source": [
    "# data count in each row\n",
    "df.count()"
   ]
  },
  {
   "cell_type": "code",
   "execution_count": 274,
   "id": "53b78021",
   "metadata": {},
   "outputs": [
    {
     "data": {
      "text/html": [
       "<div>\n",
       "<style scoped>\n",
       "    .dataframe tbody tr th:only-of-type {\n",
       "        vertical-align: middle;\n",
       "    }\n",
       "\n",
       "    .dataframe tbody tr th {\n",
       "        vertical-align: top;\n",
       "    }\n",
       "\n",
       "    .dataframe thead th {\n",
       "        text-align: right;\n",
       "    }\n",
       "</style>\n",
       "<table border=\"1\" class=\"dataframe\">\n",
       "  <thead>\n",
       "    <tr style=\"text-align: right;\">\n",
       "      <th></th>\n",
       "      <th>ref</th>\n",
       "      <th>state</th>\n",
       "      <th>constituency</th>\n",
       "      <th>won_status</th>\n",
       "      <th>votes</th>\n",
       "      <th>Name</th>\n",
       "      <th>Party_Name</th>\n",
       "    </tr>\n",
       "  </thead>\n",
       "  <tbody>\n",
       "    <tr>\n",
       "      <th>76</th>\n",
       "      <td>77</td>\n",
       "      <td>Himachal Pradesh</td>\n",
       "      <td>KANGRA(1)</td>\n",
       "      <td>won</td>\n",
       "      <td>519748</td>\n",
       "      <td>Suresh Kumar Kashyap</td>\n",
       "      <td>Bharatiya Janata Party</td>\n",
       "    </tr>\n",
       "    <tr>\n",
       "      <th>82</th>\n",
       "      <td>83</td>\n",
       "      <td>Haryana</td>\n",
       "      <td>KURUKSHETRA(2)</td>\n",
       "      <td>won</td>\n",
       "      <td>788569</td>\n",
       "      <td>KRISHAN PAL</td>\n",
       "      <td>Bharatiya Janata Party</td>\n",
       "    </tr>\n",
       "    <tr>\n",
       "      <th>208</th>\n",
       "      <td>209</td>\n",
       "      <td>Arunachal Pradesh</td>\n",
       "      <td>Arunachal West(1)</td>\n",
       "      <td>won</td>\n",
       "      <td>145581</td>\n",
       "      <td>TAPIR GAO</td>\n",
       "      <td>Bharatiya Janata Party</td>\n",
       "    </tr>\n",
       "    <tr>\n",
       "      <th>265</th>\n",
       "      <td>266</td>\n",
       "      <td>Arunachal Pradesh</td>\n",
       "      <td>Arunachal West(1)</td>\n",
       "      <td>won</td>\n",
       "      <td>205417</td>\n",
       "      <td>KIREN RIJIJU</td>\n",
       "      <td>Bharatiya Janata Party</td>\n",
       "    </tr>\n",
       "    <tr>\n",
       "      <th>274</th>\n",
       "      <td>275</td>\n",
       "      <td>Haryana</td>\n",
       "      <td>KURUKSHETRA(2)</td>\n",
       "      <td>won</td>\n",
       "      <td>808336</td>\n",
       "      <td>RAO INDERJIT SINGH</td>\n",
       "      <td>Bharatiya Janata Party</td>\n",
       "    </tr>\n",
       "    <tr>\n",
       "      <th>...</th>\n",
       "      <td>...</td>\n",
       "      <td>...</td>\n",
       "      <td>...</td>\n",
       "      <td>...</td>\n",
       "      <td>...</td>\n",
       "      <td>...</td>\n",
       "      <td>...</td>\n",
       "    </tr>\n",
       "    <tr>\n",
       "      <th>8003</th>\n",
       "      <td>8004</td>\n",
       "      <td>Telangana</td>\n",
       "      <td>Adilabad (1)</td>\n",
       "      <td>won</td>\n",
       "      <td>991042</td>\n",
       "      <td>EATALA RAJENDER</td>\n",
       "      <td>Bharatiya Janata Party</td>\n",
       "    </tr>\n",
       "    <tr>\n",
       "      <th>8026</th>\n",
       "      <td>8027</td>\n",
       "      <td>Telangana</td>\n",
       "      <td>Adilabad (1)</td>\n",
       "      <td>won</td>\n",
       "      <td>471217</td>\n",
       "      <td>MADHAVANENI RAGHUNANDAN RAO</td>\n",
       "      <td>Bharatiya Janata Party</td>\n",
       "    </tr>\n",
       "    <tr>\n",
       "      <th>8071</th>\n",
       "      <td>8072</td>\n",
       "      <td>Telangana</td>\n",
       "      <td>Adilabad (1)</td>\n",
       "      <td>won</td>\n",
       "      <td>592318</td>\n",
       "      <td>ARVIND DHARMAPURI</td>\n",
       "      <td>Bharatiya Janata Party</td>\n",
       "    </tr>\n",
       "    <tr>\n",
       "      <th>8101</th>\n",
       "      <td>8102</td>\n",
       "      <td>Telangana</td>\n",
       "      <td>Adilabad (1)</td>\n",
       "      <td>won</td>\n",
       "      <td>585116</td>\n",
       "      <td>BANDI SANJAY KUMAR</td>\n",
       "      <td>Bharatiya Janata Party</td>\n",
       "    </tr>\n",
       "    <tr>\n",
       "      <th>8130</th>\n",
       "      <td>8131</td>\n",
       "      <td>Telangana</td>\n",
       "      <td>Adilabad (1)</td>\n",
       "      <td>won</td>\n",
       "      <td>568168</td>\n",
       "      <td>GODAM NAGESH</td>\n",
       "      <td>Bharatiya Janata Party</td>\n",
       "    </tr>\n",
       "  </tbody>\n",
       "</table>\n",
       "<p>240 rows × 7 columns</p>\n",
       "</div>"
      ],
      "text/plain": [
       "       ref              state       constituency won_status   votes  \\\n",
       "76      77   Himachal Pradesh          KANGRA(1)        won  519748   \n",
       "82      83            Haryana     KURUKSHETRA(2)        won  788569   \n",
       "208    209  Arunachal Pradesh  Arunachal West(1)        won  145581   \n",
       "265    266  Arunachal Pradesh  Arunachal West(1)        won  205417   \n",
       "274    275            Haryana     KURUKSHETRA(2)        won  808336   \n",
       "...    ...                ...                ...        ...     ...   \n",
       "8003  8004          Telangana       Adilabad (1)        won  991042   \n",
       "8026  8027          Telangana       Adilabad (1)        won  471217   \n",
       "8071  8072          Telangana       Adilabad (1)        won  592318   \n",
       "8101  8102          Telangana       Adilabad (1)        won  585116   \n",
       "8130  8131          Telangana       Adilabad (1)        won  568168   \n",
       "\n",
       "                             Name              Party_Name  \n",
       "76           Suresh Kumar Kashyap  Bharatiya Janata Party  \n",
       "82                    KRISHAN PAL  Bharatiya Janata Party  \n",
       "208                     TAPIR GAO  Bharatiya Janata Party  \n",
       "265                  KIREN RIJIJU  Bharatiya Janata Party  \n",
       "274            RAO INDERJIT SINGH  Bharatiya Janata Party  \n",
       "...                           ...                     ...  \n",
       "8003              EATALA RAJENDER  Bharatiya Janata Party  \n",
       "8026  MADHAVANENI RAGHUNANDAN RAO  Bharatiya Janata Party  \n",
       "8071            ARVIND DHARMAPURI  Bharatiya Janata Party  \n",
       "8101           BANDI SANJAY KUMAR  Bharatiya Janata Party  \n",
       "8130                 GODAM NAGESH  Bharatiya Janata Party  \n",
       "\n",
       "[240 rows x 7 columns]"
      ]
     },
     "execution_count": 274,
     "metadata": {},
     "output_type": "execute_result"
    }
   ],
   "source": [
    "# list of canddate who has elected in a particular party\n",
    "df[(df.won_status==\"won\")&(df.Party_Name==\"Bharatiya Janata Party\")]"
   ]
  },
  {
   "cell_type": "code",
   "execution_count": 275,
   "id": "4afac0e7",
   "metadata": {},
   "outputs": [
    {
     "data": {
      "text/plain": [
       "won_status  Party_Name            \n",
       "won         Bharatiya Janata Party    240\n",
       "lost        Bharatiya Janata Party    201\n",
       "Name: count, dtype: int64"
      ]
     },
     "execution_count": 275,
     "metadata": {},
     "output_type": "execute_result"
    }
   ],
   "source": [
    "# extraction of seats won by the party seperately\n",
    "df.loc[df.Party_Name==\"Bharatiya Janata Party\",['won_status','Party_Name']].value_counts()"
   ]
  },
  {
   "cell_type": "code",
   "execution_count": 262,
   "id": "7babaeb5",
   "metadata": {},
   "outputs": [],
   "source": [
    "# with pd.option_context('display.max_rows', None,):\n",
    "#     print(x)"
   ]
  },
  {
   "cell_type": "code",
   "execution_count": 263,
   "id": "0177a6c1",
   "metadata": {},
   "outputs": [],
   "source": [
    "# replacing the won_status :won,lost,NaN=1,0,2 repectively\n",
    "df['won_status'] = df['won_status'].replace({'won': 1, 'lost': 0, None: 2}).astype('Int64')\n"
   ]
  },
  {
   "cell_type": "code",
   "execution_count": 264,
   "id": "4542e04a",
   "metadata": {},
   "outputs": [],
   "source": [
    "# extracting the party name and the won status count \n",
    "# de= df[df['won_status']== 1]['Party_Name'].value_counts()\n",
    "# de=pd.DataFrame(w)\n",
    "# csv_string = de.to_csv(index=True)\n",
    "# print(csv_string)"
   ]
  },
  {
   "cell_type": "code",
   "execution_count": 265,
   "id": "f2139373",
   "metadata": {},
   "outputs": [
    {
     "data": {
      "text/html": [
       "<div>\n",
       "<style scoped>\n",
       "    .dataframe tbody tr th:only-of-type {\n",
       "        vertical-align: middle;\n",
       "    }\n",
       "\n",
       "    .dataframe tbody tr th {\n",
       "        vertical-align: top;\n",
       "    }\n",
       "\n",
       "    .dataframe thead th {\n",
       "        text-align: right;\n",
       "    }\n",
       "</style>\n",
       "<table border=\"1\" class=\"dataframe\">\n",
       "  <thead>\n",
       "    <tr style=\"text-align: right;\">\n",
       "      <th></th>\n",
       "      <th>Party_Name</th>\n",
       "      <th>count</th>\n",
       "    </tr>\n",
       "  </thead>\n",
       "  <tbody>\n",
       "    <tr>\n",
       "      <th>0</th>\n",
       "      <td>Bharatiya Janata Party</td>\n",
       "      <td>240</td>\n",
       "    </tr>\n",
       "    <tr>\n",
       "      <th>1</th>\n",
       "      <td>Indian National Congress</td>\n",
       "      <td>99</td>\n",
       "    </tr>\n",
       "    <tr>\n",
       "      <th>2</th>\n",
       "      <td>Samajwadi Party</td>\n",
       "      <td>37</td>\n",
       "    </tr>\n",
       "    <tr>\n",
       "      <th>3</th>\n",
       "      <td>All India Trinamool Congress</td>\n",
       "      <td>29</td>\n",
       "    </tr>\n",
       "    <tr>\n",
       "      <th>4</th>\n",
       "      <td>Dravida Munnetra Kazhagam</td>\n",
       "      <td>22</td>\n",
       "    </tr>\n",
       "  </tbody>\n",
       "</table>\n",
       "</div>"
      ],
      "text/plain": [
       "                     Party_Name  count\n",
       "0        Bharatiya Janata Party    240\n",
       "1      Indian National Congress     99\n",
       "2               Samajwadi Party     37\n",
       "3  All India Trinamool Congress     29\n",
       "4     Dravida Munnetra Kazhagam     22"
      ]
     },
     "execution_count": 265,
     "metadata": {},
     "output_type": "execute_result"
    }
   ],
   "source": [
    "party =pd.read_csv(\"party_seat_count.csv\")\n",
    "party.head()"
   ]
  },
  {
   "cell_type": "code",
   "execution_count": null,
   "id": "a3209055",
   "metadata": {},
   "outputs": [],
   "source": []
  },
  {
   "cell_type": "code",
   "execution_count": 290,
   "id": "456374bf",
   "metadata": {},
   "outputs": [
    {
     "data": {
      "text/plain": [
       "<Figure size 1800x1800 with 0 Axes>"
      ]
     },
     "metadata": {},
     "output_type": "display_data"
    },
    {
     "data": {
      "image/png": "[encoded data removed]",
      "text/plain": [
       "<Figure size 640x480 with 1 Axes>"
      ]
     },
     "metadata": {},
     "output_type": "display_data"
    }
   ],
   "source": [
    "import matplotlib.pyplot as plt\n",
    "\n",
    "# Data provided by the user\n",
    "party_names = [\n",
    "    \"Bharatiya Janata Party\", \"Indian National Congress\", \"Samajwadi Party\", \"All India Trinamool Congress\",\n",
    "    \"Dravida Munnetra Kazhagam\", \"Telugu Desam\", \"Janata Dal (United)\", \"Shiv Sena (Uddhav Balasaheb Thackrey)\",\n",
    "    \"Nationalist Congress Party – Sharadchandra Pawar\", \"Shiv Sena\", \"Independent\", \"Lok Janshakti Party(Ram Vilas)\",\n",
    "    \"Rashtriya Janata Dal\", \"Yuvajana Sramika Rythu Congress Party\", \"Communist Party of India (Marxist)\",\n",
    "    \"Indian Union Muslim League\", \"Aam Aadmi Party\", \"Jharkhand Mukti Morcha\", \"Rashtriya Lok Dal\", \"Janata Dal (Secular)\",\n",
    "    \"Janasena Party\", \"Communist Party of India\", \"Viduthalai Chiruthaigal Katchi\", \"Jammu & Kashmir National Conference\",\n",
    "    \"Communist Party of India (Marxist-Leninist) (Liberation)\", \"Marumalarchi Dravida Munnetra Kazhagam\", \"Rashtriya Loktantrik Party\",\n",
    "    \"Asom Gana Parishad\", \"Shiromani Akali Dal\", \"Voice of the People Party\", \"AJSU Party\", \"United People’s Party, Liberal\",\n",
    "    \"Nationalist Congress Party\", \"Zoram People’s Movement\", \"Bharat Adivasi Party\", \"Sikkim Krantikari Morcha\",\n",
    "    \"Hindustani Awam Morcha (Secular)\", \"Aazad Samaj Party (Kanshi Ram)\", \"Apna Dal (Soneylal)\", \"Revolutionary Socialist Party\",\n",
    "    \"Kerala Congress\", \"All India Majlis-E-Ittehadul Muslimeen\"\n",
    "]\n",
    "\n",
    "counts = [\n",
    "    240, 99, 37, 29, 22, 16, 12, 9, 8, 7, 7, 5, 4, 4, 4, 3, 3, 3, 2, 2, 2, 2, 2, 2, 2, 1, 1, 1, 1, 1, 1, 1, 1, 1, 1, 1, 1, 1, 1, 1, 1, 1\n",
    "]\n",
    "\n",
    "# Calculate the percentages\n",
    "total_count = sum(counts)\n",
    "\n",
    "percentages = [(count / total_count) * 100 for count in counts]\n",
    "plt.figure(figsize=(18,18))\n",
    "# Combine counts <= 7 into \"Others\"\n",
    "others_count = sum(count for count in counts if count <= 7)\n",
    "party_names_combined = [party for party, count in zip(party_names, counts) if count > 7] + [\"Others\"]\n",
    "percentages_combined = [percentage for percentage, count in zip(percentages, counts) if count > 7] + [(others_count / total_count) * 100]\n",
    "val.append(sum(percentages_combined ))\n",
    "# Define the wedge properties for the semi-circle pie chart\n",
    "# fig, ax = plt.subplots(figsize=(8, 6))\n",
    "fig, ax = plt.subplots()\n",
    "\n",
    "ax.pie(\n",
    "    percentages_combined, \n",
    "    startangle=135, \n",
    "    counterclock=False,\n",
    "    wedgeprops=dict(width=0.6),\n",
    "    autopct='%1.1f%%',\n",
    "\n",
    ")\n",
    "plt.subplots_adjust(left=0.3, right=2.0, top=3, bottom=1.2)\n",
    "plt.legend(party_names_combined)\n",
    "ax.set_aspect('equal')  # Equal aspect ratio ensures the pie is drawn as a semi-circle.\n",
    "\n",
    "# Display the semi-circle pie chart\n",
    "plt.show()\n"
   ]
  },
  {
   "cell_type": "code",
   "execution_count": 286,
   "id": "417bcf22",
   "metadata": {},
   "outputs": [
    {
     "name": "stderr",
     "output_type": "stream",
     "text": [
      "C:\\Users\\himanshu\\AppData\\Local\\Temp\\ipykernel_8180\\953482046.py:14: UserWarning: Matplotlib is currently using module://matplotlib_inline.backend_inline, which is a non-GUI backend, so cannot show the figure.\n",
      "  fig.show()\n"
     ]
    },
    {
     "data": {
      "image/png": "[encoded data removed]",
      "text/plain": [
       "<Figure size 800x600 with 1 Axes>"
      ]
     },
     "metadata": {},
     "output_type": "display_data"
    }
   ],
   "source": [
    "label = [\"A\", \"B\", \"C\"]\n",
    "val = [1,2,3]\n",
    "\n",
    "# append data and assign color\n",
    "label.append(\"\")\n",
    "val.append(sum(val))  # 50% blank\n",
    "colors = ['red', 'blue', 'green', 'white']\n",
    "\n",
    "# plot\n",
    "fig = plt.figure(figsize=(8,6),dpi=100)\n",
    "ax = fig.add_subplot(1,1,1)\n",
    "ax.pie(val, labels=label, colors=colors)\n",
    "ax.add_artist(plt.Circle((0, 0), 0.6, color='white'))\n",
    "fig.show()"
   ]
  },
  {
   "cell_type": "code",
   "execution_count": null,
   "id": "39c4a2a5",
   "metadata": {},
   "outputs": [],
   "source": []
  }
 ],
 "metadata": {
  "kernelspec": {
   "display_name": "Python 3 (ipykernel)",
   "language": "python",
   "name": "python3"
  },
  "language_info": {
   "codemirror_mode": {
    "name": "ipython",
    "version": 3
   },
   "file_extension": ".py",
   "mimetype": "text/x-python",
   "name": "python",
   "nbconvert_exporter": "python",
   "pygments_lexer": "ipython3",
   "version": "3.12.0"
  }
 },
 "nbformat": 4,
 "nbformat_minor": 5
}
