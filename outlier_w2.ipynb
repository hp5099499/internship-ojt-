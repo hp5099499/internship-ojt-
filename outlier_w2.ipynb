{
 "cells": [
  {
   "cell_type": "code",
   "execution_count": 24,
   "id": "16f5ed52",
   "metadata": {},
   "outputs": [],
   "source": [
    "import numpy as np\n",
    "import matplotlib.pyplot as plt\n",
    "%matplotlib inline"
   ]
  },
  {
   "cell_type": "markdown",
   "id": "7c76f239",
   "metadata": {},
   "source": [
    "## identify an outlier\n",
    "IQR,\n",
    "Z-SCORE,sCATTERPLOTS,BOXPLOT"
   ]
  },
  {
   "cell_type": "markdown",
   "id": "3bca5138",
   "metadata": {},
   "source": [
    "what are the impacts of having outliers in a dataset?\n",
    "\n",
    "1. It causes various problems during our statistical analysis\n",
    "2. It may cause a significant impact on the mean and the standard deviation\n",
    "\n",
    "Various ways of finding the outlier.\n",
    "\n",
    "1. Using scatter plots\n",
    "2. Box plot\n",
    "3. using z score\n",
    "4. using the IQR interquantile range\n",
    "\n"
   ]
  },
  {
   "cell_type": "code",
   "execution_count": 25,
   "id": "1e98af25",
   "metadata": {},
   "outputs": [],
   "source": [
    "datasets= [11,10,12,14,12,15,14,13,15,102,12,14,17,19,107, 10,13,12,14,12,108,12,11,14,13,15,10,15,12,103]"
   ]
  },
  {
   "cell_type": "markdown",
   "id": "a3e3d032",
   "metadata": {},
   "source": [
    "detecting the outlier through Z-score=(Observation-mean)/standard deviation"
   ]
  },
  {
   "cell_type": "code",
   "execution_count": 98,
   "id": "8cfd6843",
   "metadata": {},
   "outputs": [],
   "source": [
    "outliers=[]\n",
    "\n",
    "def outliers_detect(data):\n",
    "    \n",
    "    threshold=2\n",
    "    mean=np.mean(data)\n",
    "    std=np.std(data)\n",
    "    \n",
    "    for i in data:\n",
    "        z_score=(i-mean)/std\n",
    "        if np.abs(z_score)>threshold:\n",
    "            outliers.append(i)\n",
    "    \n",
    "    print(outliers)\n",
    "    "
   ]
  },
  {
   "cell_type": "code",
   "execution_count": 99,
   "id": "57731702",
   "metadata": {},
   "outputs": [
    {
     "name": "stdout",
     "output_type": "stream",
     "text": [
      "[102, 107, 108, 103]\n"
     ]
    }
   ],
   "source": [
    "outliers_detect(datasets)"
   ]
  },
  {
   "cell_type": "code",
   "execution_count": 100,
   "id": "08acfffe",
   "metadata": {},
   "outputs": [
    {
     "name": "stdout",
     "output_type": "stream",
     "text": [
      "[23]\n"
     ]
    }
   ],
   "source": [
    "outliers=[]\n",
    "outliers.append(23)\n",
    "print(outliers)"
   ]
  },
  {
   "cell_type": "code",
   "execution_count": 101,
   "id": "4855b55b",
   "metadata": {},
   "outputs": [
    {
     "name": "stdout",
     "output_type": "stream",
     "text": [
      "Outliers: [102, 107, 108, 103]\n"
     ]
    }
   ],
   "source": [
    "import numpy as np\n",
    "\n",
    "def detect_outliers(data):\n",
    "    outliers = []\n",
    "    threshold = 2\n",
    "    mean = np.mean(data)\n",
    "    std_dev = np.std(data)\n",
    "    \n",
    "    for i in data:\n",
    "        z_score = (i - mean) / std_dev\n",
    "        if np.abs(z_score) > threshold:\n",
    "            outliers.append(i)\n",
    "            \n",
    "    return outliers\n",
    "\n",
    "outliers = detect_outliers(datasets)\n",
    "\n",
    "print(\"Outliers:\", outliers)\n"
   ]
  },
  {
   "cell_type": "markdown",
   "id": "1d0d9964",
   "metadata": {},
   "source": [
    "## InterQuantile Range\n",
    "75%- 25% values in a dataset\n",
    "\n",
    "Steps\n",
    "1. Arrange the data in increasing order\n",
    "\n",
    "2. Calculate first(q1) and third quartile(g3)\n",
    "\n",
    "3. Find interquartile range (q3-q1)\n",
    "\n",
    " 4.Find lower bound q1*1.5\n",
    "\n",
    " 5.Find upper bound q3\"1.5\n",
    "Anything that lies outside of lower and upper bound is an outlier"
   ]
  },
  {
   "cell_type": "code",
   "execution_count": 97,
   "id": "22b5d5bc",
   "metadata": {},
   "outputs": [
    {
     "data": {
      "text/plain": [
       "[10,\n",
       " 10,\n",
       " 10,\n",
       " 11,\n",
       " 11,\n",
       " 12,\n",
       " 12,\n",
       " 12,\n",
       " 12,\n",
       " 12,\n",
       " 12,\n",
       " 12,\n",
       " 13,\n",
       " 13,\n",
       " 13,\n",
       " 14,\n",
       " 14,\n",
       " 14,\n",
       " 14,\n",
       " 14,\n",
       " 15,\n",
       " 15,\n",
       " 15,\n",
       " 15,\n",
       " 17,\n",
       " 19,\n",
       " 102,\n",
       " 103,\n",
       " 107,\n",
       " 108]"
      ]
     },
     "execution_count": 97,
     "metadata": {},
     "output_type": "execute_result"
    }
   ],
   "source": [
    "sorted(datasets)"
   ]
  },
  {
   "cell_type": "code",
   "execution_count": 102,
   "id": "62cf201b",
   "metadata": {},
   "outputs": [],
   "source": [
    "quartile1,quartile3=np.percentile(datasets,[25,75])"
   ]
  },
  {
   "cell_type": "code",
   "execution_count": 103,
   "id": "149d66df",
   "metadata": {},
   "outputs": [
    {
     "name": "stdout",
     "output_type": "stream",
     "text": [
      "12.0 15.0\n"
     ]
    }
   ],
   "source": [
    "print(quartile1,quartile3)"
   ]
  },
  {
   "cell_type": "code",
   "execution_count": 104,
   "id": "be0af8c6",
   "metadata": {},
   "outputs": [
    {
     "name": "stdout",
     "output_type": "stream",
     "text": [
      "3.0\n"
     ]
    }
   ],
   "source": [
    "# find IQR\n",
    "iqr_value=quartile3-quartile1\n",
    "print(iqr_value)"
   ]
  },
  {
   "cell_type": "code",
   "execution_count": 108,
   "id": "b07beb09",
   "metadata": {},
   "outputs": [],
   "source": [
    "# find the lower bound and upper bound value\n",
    "l_bound_value=quartile1-(1.5*iqr_value)\n",
    "u_bound_value=quartile3+(1.5*iqr_value)"
   ]
  },
  {
   "cell_type": "code",
   "execution_count": 109,
   "id": "dffb458c",
   "metadata": {},
   "outputs": [
    {
     "name": "stdout",
     "output_type": "stream",
     "text": [
      "7.5 19.5\n"
     ]
    }
   ],
   "source": [
    "print(l_bound_value,u_bound_value)"
   ]
  },
  {
   "cell_type": "code",
   "execution_count": 116,
   "id": "b7830e46",
   "metadata": {},
   "outputs": [
    {
     "data": {
      "text/plain": [
       "<Axes: >"
      ]
     },
     "execution_count": 116,
     "metadata": {},
     "output_type": "execute_result"
    },
    {
     "data": {
      "image/png": "[encoded data removed]",
      "text/plain": [
       "<Figure size 640x480 with 1 Axes>"
      ]
     },
     "metadata": {},
     "output_type": "display_data"
    }
   ],
   "source": [
    "import seaborn as sns\n",
    "sns.scatterplot(datasets)"
   ]
  },
  {
   "cell_type": "code",
   "execution_count": 117,
   "id": "cc117bf3",
   "metadata": {},
   "outputs": [
    {
     "data": {
      "text/plain": [
       "<Axes: >"
      ]
     },
     "execution_count": 117,
     "metadata": {},
     "output_type": "execute_result"
    },
    {
     "data": {
      "image/png": "[encoded data removed]",
      "text/plain": [
       "<Figure size 640x480 with 1 Axes>"
      ]
     },
     "metadata": {},
     "output_type": "display_data"
    }
   ],
   "source": [
    "sns.boxplot(datasets)"
   ]
  },
  {
   "cell_type": "code",
   "execution_count": null,
   "id": "2f8a9b8b",
   "metadata": {},
   "outputs": [],
   "source": []
  }
 ],
 "metadata": {
  "kernelspec": {
   "display_name": "Python 3 (ipykernel)",
   "language": "python",
   "name": "python3"
  },
  "language_info": {
   "codemirror_mode": {
    "name": "ipython",
    "version": 3
   },
   "file_extension": ".py",
   "mimetype": "text/x-python",
   "name": "python",
   "nbconvert_exporter": "python",
   "pygments_lexer": "ipython3",
   "version": "3.11.4"
  }
 },
 "nbformat": 4,
 "nbformat_minor": 5
}
