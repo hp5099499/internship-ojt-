{
 "cells": [
  {
   "cell_type": "code",
   "execution_count": 47,
   "id": "8d85fd9b-7dfa-4c76-bb00-b39e32bb99b7",
   "metadata": {},
   "outputs": [],
   "source": [
    "import pandas as pd \n",
    "import matplotlib.pyplot as plt\n",
    "import seaborn as sns\n",
    "import numpy as np"
   ]
  },
  {
   "cell_type": "code",
   "execution_count": 48,
   "id": "cfc53369-b1cd-442d-8036-3bd4694c72ad",
   "metadata": {},
   "outputs": [
    {
     "data": {
      "text/html": [
       "<div>\n",
       "<style scoped>\n",
       "    .dataframe tbody tr th:only-of-type {\n",
       "        vertical-align: middle;\n",
       "    }\n",
       "\n",
       "    .dataframe tbody tr th {\n",
       "        vertical-align: top;\n",
       "    }\n",
       "\n",
       "    .dataframe thead th {\n",
       "        text-align: right;\n",
       "    }\n",
       "</style>\n",
       "<table border=\"1\" class=\"dataframe\">\n",
       "  <thead>\n",
       "    <tr style=\"text-align: right;\">\n",
       "      <th></th>\n",
       "      <th>No</th>\n",
       "      <th>state</th>\n",
       "      <th>constituency</th>\n",
       "      <th>won status</th>\n",
       "      <th>votes</th>\n",
       "      <th>(votes)</th>\n",
       "      <th>Name</th>\n",
       "      <th>Party Name</th>\n",
       "    </tr>\n",
       "  </thead>\n",
       "  <tbody>\n",
       "    <tr>\n",
       "      <th>0</th>\n",
       "      <td>1</td>\n",
       "      <td>Haryana</td>\n",
       "      <td>KURUKSHETRA(2)</td>\n",
       "      <td>won</td>\n",
       "      <td>788569</td>\n",
       "      <td>(+ 172914)</td>\n",
       "      <td>KRISHAN PAL</td>\n",
       "      <td>Bharatiya Janata Party</td>\n",
       "    </tr>\n",
       "    <tr>\n",
       "      <th>1</th>\n",
       "      <td>2</td>\n",
       "      <td>Haryana</td>\n",
       "      <td>KURUKSHETRA(2)</td>\n",
       "      <td>lost</td>\n",
       "      <td>615655</td>\n",
       "      <td>( -172914)</td>\n",
       "      <td>MAHENDER PRATAP SINGH</td>\n",
       "      <td>Indian National Congress</td>\n",
       "    </tr>\n",
       "    <tr>\n",
       "      <th>2</th>\n",
       "      <td>3</td>\n",
       "      <td>Haryana</td>\n",
       "      <td>KURUKSHETRA(2)</td>\n",
       "      <td>lost</td>\n",
       "      <td>25206</td>\n",
       "      <td>( -763363)</td>\n",
       "      <td>KISHAN THAKUR</td>\n",
       "      <td>Bahujan Samaj Party</td>\n",
       "    </tr>\n",
       "    <tr>\n",
       "      <th>3</th>\n",
       "      <td>4</td>\n",
       "      <td>Haryana</td>\n",
       "      <td>KURUKSHETRA(2)</td>\n",
       "      <td>lost</td>\n",
       "      <td>8085</td>\n",
       "      <td>( -780484)</td>\n",
       "      <td>SUNIL TEWATIA</td>\n",
       "      <td>Indian National Lok Dal</td>\n",
       "    </tr>\n",
       "    <tr>\n",
       "      <th>4</th>\n",
       "      <td>5</td>\n",
       "      <td>Haryana</td>\n",
       "      <td>KURUKSHETRA(2)</td>\n",
       "      <td>lost</td>\n",
       "      <td>5361</td>\n",
       "      <td>( -783208)</td>\n",
       "      <td>NALIN HOODA</td>\n",
       "      <td>Jannayak Janta Party</td>\n",
       "    </tr>\n",
       "  </tbody>\n",
       "</table>\n",
       "</div>"
      ],
      "text/plain": [
       "   No    state    constituency won status   votes     (votes)  \\\n",
       "0   1  Haryana  KURUKSHETRA(2)        won  788569  (+ 172914)   \n",
       "1   2  Haryana  KURUKSHETRA(2)       lost  615655  ( -172914)   \n",
       "2   3  Haryana  KURUKSHETRA(2)       lost   25206  ( -763363)   \n",
       "3   4  Haryana  KURUKSHETRA(2)       lost    8085  ( -780484)   \n",
       "4   5  Haryana  KURUKSHETRA(2)       lost    5361  ( -783208)   \n",
       "\n",
       "                    Name                Party Name  \n",
       "0            KRISHAN PAL    Bharatiya Janata Party  \n",
       "1  MAHENDER PRATAP SINGH  Indian National Congress  \n",
       "2          KISHAN THAKUR       Bahujan Samaj Party  \n",
       "3          SUNIL TEWATIA   Indian National Lok Dal  \n",
       "4            NALIN HOODA      Jannayak Janta Party  "
      ]
     },
     "execution_count": 48,
     "metadata": {},
     "output_type": "execute_result"
    }
   ],
   "source": [
    "df=pd.read_csv(\"ec2024.csv\")\n",
    "df.head()"
   ]
  },
  {
   "cell_type": "code",
   "execution_count": 49,
   "id": "90892218-e668-4b42-9541-e3393aa37f1d",
   "metadata": {},
   "outputs": [
    {
     "data": {
      "text/plain": [
       "(8902, 8)"
      ]
     },
     "execution_count": 49,
     "metadata": {},
     "output_type": "execute_result"
    }
   ],
   "source": [
    "df.shape"
   ]
  },
  {
   "cell_type": "code",
   "execution_count": 50,
   "id": "06003ffb-d724-46bc-ac22-b4bc75e28737",
   "metadata": {},
   "outputs": [
    {
     "name": "stdout",
     "output_type": "stream",
     "text": [
      "<class 'pandas.core.frame.DataFrame'>\n",
      "RangeIndex: 8902 entries, 0 to 8901\n",
      "Data columns (total 8 columns):\n",
      " #   Column        Non-Null Count  Dtype \n",
      "---  ------        --------------  ----- \n",
      " 0   No            8902 non-null   int64 \n",
      " 1   state         8902 non-null   object\n",
      " 2   constituency  8902 non-null   object\n",
      " 3   won status    8360 non-null   object\n",
      " 4   votes         8902 non-null   object\n",
      " 5   (votes)       8901 non-null   object\n",
      " 6   Name          8902 non-null   object\n",
      " 7   Party Name    8902 non-null   object\n",
      "dtypes: int64(1), object(7)\n",
      "memory usage: 556.5+ KB\n"
     ]
    }
   ],
   "source": [
    "df.info()"
   ]
  },
  {
   "cell_type": "code",
   "execution_count": 51,
   "id": "67f180f2-1cdb-4486-b62a-5779ac6c6977",
   "metadata": {},
   "outputs": [
    {
     "data": {
      "text/plain": [
       "No                0\n",
       "state             0\n",
       "constituency      0\n",
       "won status      542\n",
       "votes             0\n",
       "(votes)           1\n",
       "Name              0\n",
       "Party Name        0\n",
       "dtype: int64"
      ]
     },
     "execution_count": 51,
     "metadata": {},
     "output_type": "execute_result"
    }
   ],
   "source": [
    "df.isnull().sum()"
   ]
  },
  {
   "cell_type": "code",
   "execution_count": 52,
   "id": "70883660-017b-4010-9d10-90d31568cbce",
   "metadata": {},
   "outputs": [
    {
     "data": {
      "text/html": [
       "<div>\n",
       "<style scoped>\n",
       "    .dataframe tbody tr th:only-of-type {\n",
       "        vertical-align: middle;\n",
       "    }\n",
       "\n",
       "    .dataframe tbody tr th {\n",
       "        vertical-align: top;\n",
       "    }\n",
       "\n",
       "    .dataframe thead th {\n",
       "        text-align: right;\n",
       "    }\n",
       "</style>\n",
       "<table border=\"1\" class=\"dataframe\">\n",
       "  <thead>\n",
       "    <tr style=\"text-align: right;\">\n",
       "      <th></th>\n",
       "      <th>state</th>\n",
       "      <th>constituency</th>\n",
       "      <th>won status</th>\n",
       "      <th>votes</th>\n",
       "      <th>(votes)</th>\n",
       "      <th>Name</th>\n",
       "      <th>Party Name</th>\n",
       "    </tr>\n",
       "  </thead>\n",
       "  <tbody>\n",
       "    <tr>\n",
       "      <th>count</th>\n",
       "      <td>8902</td>\n",
       "      <td>8902</td>\n",
       "      <td>8360</td>\n",
       "      <td>8902</td>\n",
       "      <td>8901</td>\n",
       "      <td>8902</td>\n",
       "      <td>8902</td>\n",
       "    </tr>\n",
       "    <tr>\n",
       "      <th>unique</th>\n",
       "      <td>36</td>\n",
       "      <td>96</td>\n",
       "      <td>2</td>\n",
       "      <td>6100</td>\n",
       "      <td>8808</td>\n",
       "      <td>8101</td>\n",
       "      <td>746</td>\n",
       "    </tr>\n",
       "    <tr>\n",
       "      <th>top</th>\n",
       "      <td>Maharashtra</td>\n",
       "      <td>CHENNAI NORTH(2)</td>\n",
       "      <td>lost</td>\n",
       "      <td>799</td>\n",
       "      <td>( -758217)</td>\n",
       "      <td>NOTA</td>\n",
       "      <td>Independent</td>\n",
       "    </tr>\n",
       "    <tr>\n",
       "      <th>freq</th>\n",
       "      <td>1169</td>\n",
       "      <td>600</td>\n",
       "      <td>7817</td>\n",
       "      <td>8</td>\n",
       "      <td>3</td>\n",
       "      <td>542</td>\n",
       "      <td>3920</td>\n",
       "    </tr>\n",
       "  </tbody>\n",
       "</table>\n",
       "</div>"
      ],
      "text/plain": [
       "              state      constituency won status votes     (votes)  Name  \\\n",
       "count          8902              8902       8360  8902        8901  8902   \n",
       "unique           36                96          2  6100        8808  8101   \n",
       "top     Maharashtra  CHENNAI NORTH(2)       lost   799  ( -758217)  NOTA   \n",
       "freq           1169               600       7817     8           3   542   \n",
       "\n",
       "         Party Name  \n",
       "count          8902  \n",
       "unique          746  \n",
       "top     Independent  \n",
       "freq           3920  "
      ]
     },
     "execution_count": 52,
     "metadata": {},
     "output_type": "execute_result"
    }
   ],
   "source": [
    "df.describe(include=['object'])"
   ]
  },
  {
   "cell_type": "code",
   "execution_count": 53,
   "id": "bb7a28e2-baf3-4552-b327-a9a70b927237",
   "metadata": {},
   "outputs": [
    {
     "data": {
      "text/plain": [
       "No              8902\n",
       "state           8902\n",
       "constituency    8902\n",
       "won status      8360\n",
       "votes           8902\n",
       "(votes)         8901\n",
       "Name            8902\n",
       "Party Name      8902\n",
       "dtype: int64"
      ]
     },
     "execution_count": 53,
     "metadata": {},
     "output_type": "execute_result"
    }
   ],
   "source": [
    "df.count()"
   ]
  },
  {
   "cell_type": "code",
   "execution_count": 56,
   "id": "b826f6cf-be5b-4c88-844e-d7ec66798106",
   "metadata": {},
   "outputs": [
    {
     "ename": "SyntaxError",
     "evalue": "invalid non-printable character U+00A0 (3783714325.py, line 4)",
     "output_type": "error",
     "traceback": [
      "\u001b[1;36m  Cell \u001b[1;32mIn[56], line 4\u001b[1;36m\u001b[0m\n\u001b[1;33m    de.to_csv(filename, index=True)\u001b[0m\n\u001b[1;37m                       ^\u001b[0m\n\u001b[1;31mSyntaxError\u001b[0m\u001b[1;31m:\u001b[0m invalid non-printable character U+00A0\n"
     ]
    }
   ],
   "source": [
    "de=df[df.state==\"Goa\"].set_index('ref')\n",
    "de=pd.DataFrame(de)\n",
    "filename = 'Goa_data.csv'\n",
    "de.to_csv(filename, index=True)"
   ]
  },
  {
   "cell_type": "code",
   "execution_count": null,
   "id": "ff78e9cb-cd0b-4192-b195-095522b9fc33",
   "metadata": {},
   "outputs": [],
   "source": []
  }
 ],
 "metadata": {
  "kernelspec": {
   "display_name": "Python 3 (ipykernel)",
   "language": "python",
   "name": "python3"
  },
  "language_info": {
   "codemirror_mode": {
    "name": "ipython",
    "version": 3
   },
   "file_extension": ".py",
   "mimetype": "text/x-python",
   "name": "python",
   "nbconvert_exporter": "python",
   "pygments_lexer": "ipython3",
   "version": "3.12.0"
  }
 },
 "nbformat": 4,
 "nbformat_minor": 5
}
